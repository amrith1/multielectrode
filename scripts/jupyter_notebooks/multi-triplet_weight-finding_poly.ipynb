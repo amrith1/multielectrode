{
 "cells": [
  {
   "cell_type": "code",
   "execution_count": null,
   "metadata": {},
   "outputs": [],
   "source": [
    "import numpy as np\n",
    "import pickle\n",
    "import matplotlib.pyplot as plt\n",
    "from scipy.io import loadmat\n",
    "import visionloader as vl\n",
    "from sklearn.model_selection import train_test_split\n",
    "from sklearn.preprocessing import PolynomialFeatures, StandardScaler\n",
    "from sklearn.decomposition import PCA\n",
    "import statsmodels.api as sm\n",
    "import os\n",
    "import src.fitting as fitting\n",
    "import src.multielec_utils as mutils\n",
    "from mpl_toolkits.mplot3d import Axes3D\n",
    "from sklearn.cluster import KMeans\n",
    "from scipy.optimize import minimize\n",
    "from sklearn.cluster import SpectralClustering\n",
    "\n",
    "%load_ext autoreload\n",
    "%autoreload 2\n",
    "%matplotlib ipympl"
   ]
  },
  {
   "cell_type": "markdown",
   "metadata": {},
   "source": [
    "# Load in triplet stim elecResps and amplitudes"
   ]
  },
  {
   "cell_type": "code",
   "execution_count": null,
   "metadata": {},
   "outputs": [],
   "source": [
    "ANALYSIS_BASE = \"/Volumes/Analysis\"\n",
    "gsort_path = \"/Volumes/Scratch/Users/praful/triplet_gsort_v2_30um_periphery-affinity_cosine\""
   ]
  },
  {
   "cell_type": "code",
   "execution_count": null,
   "metadata": {},
   "outputs": [],
   "source": [
    "dataset = \"2020-10-18-5\"\n",
    "estim = \"data006/data006-all_v2\"\n",
    "electrical_path = os.path.join(ANALYSIS_BASE, dataset, estim)"
   ]
  },
  {
   "cell_type": "code",
   "execution_count": null,
   "metadata": {},
   "outputs": [],
   "source": [
    "wnoise = \"kilosort_data002/data002\"\n",
    "vis_datapath = os.path.join(ANALYSIS_BASE, dataset, wnoise)\n",
    "vis_datarun = wnoise.split('/')[-1]\n",
    "vcd = vl.load_vision_data(\n",
    "    vis_datapath,\n",
    "    vis_datarun,\n",
    "    include_neurons=True,\n",
    "    include_ei=True,\n",
    "    include_params=True,\n",
    "    include_noise=True,\n",
    ")\n",
    "\n",
    "coords = vcd.get_electrode_map()"
   ]
  },
  {
   "cell_type": "code",
   "execution_count": null,
   "metadata": {},
   "outputs": [],
   "source": [
    "patterns = np.array([2])\n",
    "n = 220\n",
    "\n",
    "p_thr = 0.08"
   ]
  },
  {
   "cell_type": "code",
   "execution_count": null,
   "metadata": {
    "scrolled": true
   },
   "outputs": [],
   "source": [
    "all_elecs = []\n",
    "neg_inds_total = 0\n",
    "pos_inds_total = 0\n",
    "\n",
    "for i in range(len(patterns)):\n",
    "    p = patterns[i]\n",
    "    print(\"Pattern \" + str(p))\n",
    "    filepath = os.path.join(gsort_path, \n",
    "                            dataset, estim, wnoise, \"p\" + str(p))\n",
    "\n",
    "    triplet_elecs = mutils.get_stim_elecs_newlv(electrical_path, p)\n",
    "    amplitudes = mutils.get_stim_amps_newlv(electrical_path, p)\n",
    "\n",
    "    num_pts = len(amplitudes)\n",
    "\n",
    "    triplet_probs = np.zeros(num_pts)\n",
    "    for k in range(num_pts):\n",
    "        with open(os.path.join(filepath, \"gsort_tri_v2_n\" + str(n) + \"_p\" + str(p) + \"_k\" + str(k) + \".pkl\"), \"rb\") as f:\n",
    "            prob_dict = pickle.load(f)\n",
    "            triplet_probs[k] = prob_dict[\"cosine_prob\"][0]\n",
    "\n",
    "    neg_inds = np.where((np.all(amplitudes < 0, axis=1)) & (triplet_probs > p_thr))[0]\n",
    "    pos_inds = np.where((np.all(amplitudes > 0, axis=1)) & (triplet_probs > p_thr))[0]\n",
    "    good_inds = np.where(triplet_probs > p_thr)[0]\n",
    "    all_elecs.append(triplet_elecs)\n",
    "\n",
    "    pos_inds_total += len(pos_inds)\n",
    "    neg_inds_total += len(neg_inds)"
   ]
  },
  {
   "cell_type": "code",
   "execution_count": null,
   "metadata": {},
   "outputs": [],
   "source": [
    "len(good_inds)"
   ]
  },
  {
   "cell_type": "code",
   "execution_count": null,
   "metadata": {},
   "outputs": [],
   "source": [
    "fig = plt.figure()\n",
    "fig.clear(0)\n",
    "ax = Axes3D(fig)\n",
    "plt.xlabel(r'$I_1$')\n",
    "plt.ylabel(r'$I_2$')\n",
    "ax.set_zlabel(r'$I_3$')\n",
    "\n",
    "scat = ax.scatter(amplitudes[:, 0][good_inds], \n",
    "            amplitudes[:, 1][good_inds],\n",
    "            amplitudes[:, 2][good_inds], marker='o', s=20, c=triplet_probs[good_inds], alpha=0.8)\n",
    "\n",
    "clb = plt.colorbar(scat)\n",
    "plt.show()"
   ]
  },
  {
   "cell_type": "code",
   "execution_count": null,
   "metadata": {},
   "outputs": [],
   "source": [
    "clustering = SpectralClustering(n_clusters=2, assign_labels='discretize', affinity='nearest_neighbors').fit(amplitudes[good_inds])"
   ]
  },
  {
   "cell_type": "code",
   "execution_count": null,
   "metadata": {},
   "outputs": [],
   "source": [
    "fig = plt.figure(1)\n",
    "fig.clear()\n",
    "ax = Axes3D(fig)\n",
    "plt.xlabel(r'$I_1$')\n",
    "plt.ylabel(r'$I_2$')\n",
    "ax.set_zlabel(r'$I_3$')\n",
    "\n",
    "scat = ax.scatter(amplitudes[:, 0][good_inds], \n",
    "            amplitudes[:, 1][good_inds],\n",
    "            amplitudes[:, 2][good_inds], marker='o', s=20, c=clustering.labels_, alpha=0.8)\n",
    "\n",
    "plt.show()"
   ]
  },
  {
   "cell_type": "code",
   "execution_count": null,
   "metadata": {},
   "outputs": [],
   "source": [
    "# # Create a figure and a 3D Axes\n",
    "# fig = plt.figure(1)\n",
    "# ax = Axes3D(fig)\n",
    "# plt.xlabel(r'$I_1$')\n",
    "# plt.ylabel(r'$I_2$')\n",
    "# ax.set_zlabel(r'$I_3$')\n",
    "\n",
    "# # Create an init function and the animate functions.\n",
    "# # Both are explained in the tutorial. Since we are changing\n",
    "# # the the elevation and azimuth and no objects are really\n",
    "# # changed on the plot we don't have to return anything from\n",
    "# # the init and animate function. (return value is explained\n",
    "# # in the tutorial.\n",
    "# def init():\n",
    "#     ax.scatter(amplitudes[:, 0][good_inds], \n",
    "#                amplitudes[:, 1][good_inds],\n",
    "#                amplitudes[:, 2][good_inds], marker='o', s=20, c=triplet_probs[good_inds], alpha=0.8)\n",
    "    \n",
    "#     return fig,\n",
    "\n",
    "# def animate(i):\n",
    "#     ax.view_init(elev=10., azim=i)\n",
    "#     return fig,\n",
    "\n",
    "# # Animate\n",
    "# anim = animation.FuncAnimation(fig, animate, init_func=init,\n",
    "#                                frames=360, interval=20, blit=True)\n",
    "# # Save\n",
    "# # anim.save('/Volumes/Lab/Users/praful/thresh_surface_comp_p.gif', writer='imagemagick', fps=30)\n",
    "# plt.show()"
   ]
  },
  {
   "cell_type": "code",
   "execution_count": null,
   "metadata": {},
   "outputs": [],
   "source": [
    "pos_inds_total, neg_inds_total"
   ]
  },
  {
   "cell_type": "code",
   "execution_count": null,
   "metadata": {},
   "outputs": [],
   "source": [
    "all_elecs_array = np.unique(np.array(all_elecs))"
   ]
  },
  {
   "cell_type": "code",
   "execution_count": null,
   "metadata": {},
   "outputs": [],
   "source": [
    "all_elecs_array"
   ]
  },
  {
   "cell_type": "code",
   "execution_count": null,
   "metadata": {},
   "outputs": [],
   "source": [
    "X_pos = []\n",
    "y_pos = []\n",
    "\n",
    "X_neg = []\n",
    "y_neg = []\n",
    "\n",
    "trials_pos = []\n",
    "trials_neg = []"
   ]
  },
  {
   "cell_type": "code",
   "execution_count": null,
   "metadata": {},
   "outputs": [],
   "source": [
    "for i in range(len(patterns)):\n",
    "    p = patterns[i]\n",
    "    print(\"Pattern \" + str(p))\n",
    "    filepath = os.path.join(gsort_path, \n",
    "                            dataset, estim, wnoise, \"p\" + str(p))\n",
    "\n",
    "    triplet_elecs = mutils.get_stim_elecs_newlv(electrical_path, p)\n",
    "    amplitudes = mutils.get_stim_amps_newlv(electrical_path, p)\n",
    "\n",
    "    num_pts = len(amplitudes)\n",
    "\n",
    "    triplet_probs = np.zeros(num_pts)\n",
    "    triplet_trials = np.zeros(num_pts, dtype=int)\n",
    "    for k in range(num_pts):\n",
    "        with open(os.path.join(filepath, \"gsort_tri_v2_n\" + str(n) + \"_p\" + str(p) + \"_k\" + str(k) + \".pkl\"), \"rb\") as f:\n",
    "            prob_dict = pickle.load(f)\n",
    "            triplet_probs[k] = prob_dict[\"cosine_prob\"][0]\n",
    "            triplet_trials[k] = prob_dict[\"num_trials\"]\n",
    "\n",
    "    neg_inds = np.where((np.all(amplitudes < 0, axis=1)) & (triplet_probs > p_thr))[0]\n",
    "    pos_inds = np.where((np.all(amplitudes > 0, axis=1)) & (triplet_probs > p_thr))[0]\n",
    "    \n",
    "    elec_inds = np.searchsorted(all_elecs_array, triplet_elecs)\n",
    "\n",
    "    y = triplet_probs[pos_inds]\n",
    "    X = amplitudes[pos_inds]\n",
    "    trials = triplet_trials[pos_inds]\n",
    "    X_pos_p = np.zeros((len(pos_inds), len(all_elecs_array)))\n",
    "    X_pos_p[:, elec_inds] = X\n",
    "    X_pos.append(X_pos_p)\n",
    "    y_pos.append(y)\n",
    "    trials_pos.append(trials)\n",
    "\n",
    "    y = triplet_probs[neg_inds]\n",
    "    X = amplitudes[neg_inds]\n",
    "    trials = triplet_trials[neg_inds]\n",
    "    X_neg_p = np.zeros((len(neg_inds), len(all_elecs_array)))\n",
    "    X_neg_p[:, elec_inds] = X\n",
    "    X_neg.append(X_neg_p)\n",
    "    y_neg.append(y)\n",
    "    trials_neg.append(trials)\n",
    "\n",
    "    print(all_elecs_array)\n",
    "    print(triplet_elecs)\n",
    "    print(elec_inds)\n",
    "    print(amplitudes[neg_inds])\n",
    "    print(X_neg_p)\n",
    "    print(y)\n",
    "    print(trials)"
   ]
  },
  {
   "cell_type": "code",
   "execution_count": null,
   "metadata": {},
   "outputs": [],
   "source": [
    "all_amps_neg = np.vstack(X_neg)\n",
    "all_probs_neg = np.hstack(y_neg)\n",
    "trials_neg = np.hstack(trials_neg)"
   ]
  },
  {
   "cell_type": "code",
   "execution_count": null,
   "metadata": {},
   "outputs": [],
   "source": [
    "all_amps_pos = np.vstack(X_pos)\n",
    "all_probs_pos = np.hstack(y_pos)\n",
    "trials_pos = np.hstack(trials_pos)"
   ]
  },
  {
   "cell_type": "code",
   "execution_count": null,
   "metadata": {},
   "outputs": [],
   "source": [
    "all_amps_pos"
   ]
  },
  {
   "cell_type": "code",
   "execution_count": null,
   "metadata": {},
   "outputs": [],
   "source": [
    "all_amps_pos.shape, all_probs_pos.shape, trials_pos.shape"
   ]
  },
  {
   "cell_type": "code",
   "execution_count": null,
   "metadata": {},
   "outputs": [],
   "source": [
    "test_size = 0.2\n",
    "train_amps_pos, test_amps_pos, train_probs_pos, test_probs_pos, train_trials_pos, _ = train_test_split(all_amps_pos, all_probs_pos, trials_pos, test_size=test_size)\n",
    "train_amps_neg, test_amps_neg, train_probs_neg, test_probs_neg, train_trials_neg, _ = train_test_split(all_amps_neg, all_probs_neg, trials_neg, test_size=test_size)"
   ]
  },
  {
   "cell_type": "code",
   "execution_count": null,
   "metadata": {},
   "outputs": [],
   "source": [
    "degree = 4\n",
    "interaction = True\n",
    "multi_X, multi_y = fitting.convertToBinaryClassifier(\n",
    "    train_probs_neg, train_trials_neg, train_amps_neg, degree, interaction\n",
    ")"
   ]
  },
  {
   "cell_type": "code",
   "execution_count": null,
   "metadata": {},
   "outputs": [],
   "source": [
    "multi_X.shape, multi_y.shape"
   ]
  },
  {
   "cell_type": "code",
   "execution_count": null,
   "metadata": {},
   "outputs": [],
   "source": [
    "mu = np.concatenate((np.array([1]), np.zeros(multi_X.shape[-1] - 1)))\n",
    "multi_results = minimize(fitting.negLL, x0=mu, args=(multi_X, multi_y, False, \"none\"))\n",
    "multi_weights = multi_results.x"
   ]
  },
  {
   "cell_type": "code",
   "execution_count": null,
   "metadata": {},
   "outputs": [],
   "source": [
    "multi_weights"
   ]
  },
  {
   "cell_type": "code",
   "execution_count": null,
   "metadata": {},
   "outputs": [],
   "source": [
    "if interaction:\n",
    "    poly = PolynomialFeatures(degree)\n",
    "    test_X = poly.fit_transform(test_amps_neg)\n",
    "    train_X = poly.fit_transform(train_amps_neg)\n",
    "\n",
    "else:\n",
    "    test_X = fitting.noInteractionPoly(test_amps_neg, degree)\n",
    "    train_X = fitting.noInteractionPoly(train_amps_neg, degree)\n",
    "\n",
    "test_y = test_probs_neg\n",
    "train_y = train_probs_neg\n",
    "\n",
    "plt.figure(2)\n",
    "plt.figure(2).clear()\n",
    "plt.scatter(train_X @ multi_weights, train_y, label='Train')\n",
    "plt.scatter(test_X @ multi_weights, test_y, label='Test')\n",
    "plt.xlabel(r'$w^Tx$', fontsize=16)\n",
    "plt.ylabel('Activation Probability', fontsize=16)\n",
    "sigmoid_x = np.linspace(-4, 4, 100)\n",
    "plt.xlim(-5, 5)\n",
    "plt.plot(sigmoid_x, 1 / (1 + np.exp(-sigmoid_x)))\n",
    "plt.legend(fontsize=14)\n",
    "plt.show()"
   ]
  },
  {
   "cell_type": "code",
   "execution_count": null,
   "metadata": {},
   "outputs": [],
   "source": [
    "degree = 4\n",
    "interaction = True\n",
    "multi_X, multi_y = fitting.convertToBinaryClassifier(\n",
    "    train_probs_pos, train_trials_pos, train_amps_pos, degree, interaction\n",
    ")"
   ]
  },
  {
   "cell_type": "code",
   "execution_count": null,
   "metadata": {},
   "outputs": [],
   "source": [
    "multi_X.shape, multi_y.shape"
   ]
  },
  {
   "cell_type": "code",
   "execution_count": null,
   "metadata": {},
   "outputs": [],
   "source": [
    "mu = np.concatenate((np.array([1]), np.zeros(multi_X.shape[-1] - 1)))\n",
    "multi_results = minimize(fitting.negLL, x0=mu, args=(multi_X, multi_y, False, \"none\"))\n",
    "multi_weights = multi_results.x"
   ]
  },
  {
   "cell_type": "code",
   "execution_count": null,
   "metadata": {},
   "outputs": [],
   "source": [
    "multi_weights"
   ]
  },
  {
   "cell_type": "code",
   "execution_count": null,
   "metadata": {},
   "outputs": [],
   "source": [
    "if interaction:\n",
    "    poly = PolynomialFeatures(degree)\n",
    "    test_X = poly.fit_transform(test_amps_pos)\n",
    "    train_X = poly.fit_transform(train_amps_pos)\n",
    "    \n",
    "else:\n",
    "    test_X = fitting.noInteractionPoly(test_amps_pos, degree)\n",
    "    train_X = fitting.noInteractionPoly(train_amps_pos, degree)\n",
    "\n",
    "test_y = test_probs_pos\n",
    "train_y = train_probs_pos\n",
    "\n",
    "plt.figure(3)\n",
    "plt.figure(3).clear()\n",
    "plt.scatter(train_X @ multi_weights, train_y, label='Train')\n",
    "plt.scatter(test_X @ multi_weights, test_y, label='Test')\n",
    "plt.xlabel(r'$w^Tx$', fontsize=16)\n",
    "plt.ylabel('Activation Probability', fontsize=16)\n",
    "sigmoid_x = np.linspace(-4, 4, 100)\n",
    "plt.plot(sigmoid_x, 1 / (1 + np.exp(-sigmoid_x)))\n",
    "plt.legend(fontsize=14)\n",
    "plt.show()"
   ]
  },
  {
   "cell_type": "code",
   "execution_count": null,
   "metadata": {},
   "outputs": [],
   "source": []
  },
  {
   "cell_type": "code",
   "execution_count": null,
   "metadata": {},
   "outputs": [],
   "source": []
  }
 ],
 "metadata": {
  "kernelspec": {
   "display_name": "Python 3 (ipykernel)",
   "language": "python",
   "name": "python3"
  },
  "language_info": {
   "codemirror_mode": {
    "name": "ipython",
    "version": 3
   },
   "file_extension": ".py",
   "mimetype": "text/x-python",
   "name": "python",
   "nbconvert_exporter": "python",
   "pygments_lexer": "ipython3",
   "version": "3.9.2"
  }
 },
 "nbformat": 4,
 "nbformat_minor": 2
}
