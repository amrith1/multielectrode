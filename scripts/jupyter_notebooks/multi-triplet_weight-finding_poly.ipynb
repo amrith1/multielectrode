{
 "cells": [
  {
   "cell_type": "code",
   "execution_count": 1,
   "metadata": {},
   "outputs": [],
   "source": [
    "import numpy as np\n",
    "import pickle\n",
    "import matplotlib.pyplot as plt\n",
    "from scipy.io import loadmat\n",
    "import visionloader as vl\n",
    "from sklearn.linear_model import LogisticRegression, LinearRegression\n",
    "from sklearn.preprocessing import PolynomialFeatures\n",
    "import statsmodels.api as sm\n",
    "from scipy.optimize import minimize, differential_evolution\n",
    "import os\n",
    "#hi"
   ]
  },
  {
   "cell_type": "markdown",
   "metadata": {},
   "source": [
    "# Load in triplet stim elecResps and amplitudes"
   ]
  },
  {
   "cell_type": "code",
   "execution_count": 2,
   "metadata": {},
   "outputs": [],
   "source": [
    "dataset = '2021-05-27-4/data003/'\n",
    "electrical_path = '/Volumes/Analysis/' + dataset"
   ]
  },
  {
   "cell_type": "code",
   "execution_count": 3,
   "metadata": {},
   "outputs": [],
   "source": [
    "vis_datapath = '/Volumes/Analysis/2021-05-27-4/data001'\n",
    "vis_datarun = 'data001'\n",
    "vcd = vl.load_vision_data(vis_datapath, vis_datarun,\n",
    "                          include_neurons=True,\n",
    "                          include_ei=True,\n",
    "                          include_params=True,\n",
    "                          include_noise=True)\n",
    "\n",
    "coords = vcd.get_electrode_map()"
   ]
  },
  {
   "cell_type": "code",
   "execution_count": null,
   "metadata": {},
   "outputs": [],
   "source": [
    "patterns = np.array([33, 35, 40])\n",
    "n = 2764"
   ]
  },
  {
   "cell_type": "code",
   "execution_count": null,
   "metadata": {
    "scrolled": true
   },
   "outputs": [],
   "source": [
    "all_elecs = []\n",
    "neg_inds_total = 0\n",
    "pos_inds_total = 0\n",
    "\n",
    "for i in range(len(patterns)):\n",
    "    p = patterns[i]\n",
    "    print('Pattern ' + str(p))\n",
    "    filepath = '/Volumes/Scratch/Users/praful/triplet_gsort_v2_30um_periphery-affinity/' + dataset + 'p' + str(p) + '/'\n",
    "\n",
    "    triplet_elecs = (loadmat(electrical_path + 'pattern_files/p' + str(p) + '.mat', \n",
    "                             squeeze_me=True, struct_as_record=False)['patternStruct'].stimElecs)\n",
    "\n",
    "    amplitudes = (loadmat(electrical_path + 'pattern_files/p' + str(p) + '.mat', \n",
    "                             squeeze_me=True, struct_as_record=False)['patternStruct'].amplitudes)\n",
    "        \n",
    "    num_pts = len(amplitudes)\n",
    "\n",
    "    triplet_probs = np.zeros(num_pts)\n",
    "    for k in range(num_pts):\n",
    "        with open(filepath + 'gsort_tri_v2_n'+str(n)+'_p'+str(p)+'_k'+str(k)+'.pkl', 'rb') as f:\n",
    "            prob_dict = pickle.load(f)\n",
    "            triplet_probs[k] = prob_dict['prob']\n",
    "\n",
    "    neg_inds = np.where((np.all(amplitudes < 0, axis=1)) & (triplet_probs > 0.08))[0]\n",
    "    pos_inds = np.where((np.all(amplitudes > 0, axis=1)) & (triplet_probs > 0.08))[0]\n",
    "\n",
    "    all_elecs.append(triplet_elecs)\n",
    "        \n",
    "    pos_inds_total += len(pos_inds)\n",
    "    neg_inds_total += len(neg_inds)"
   ]
  },
  {
   "cell_type": "code",
   "execution_count": null,
   "metadata": {},
   "outputs": [],
   "source": [
    "pos_inds_total, neg_inds_total"
   ]
  },
  {
   "cell_type": "code",
   "execution_count": null,
   "metadata": {},
   "outputs": [],
   "source": [
    "all_elecs_array = np.unique(np.array(all_elecs))"
   ]
  },
  {
   "cell_type": "code",
   "execution_count": null,
   "metadata": {},
   "outputs": [],
   "source": [
    "all_elecs_array"
   ]
  },
  {
   "cell_type": "code",
   "execution_count": null,
   "metadata": {},
   "outputs": [],
   "source": [
    "X_pos = []\n",
    "y_pos = []\n",
    "\n",
    "X_neg = []\n",
    "y_neg = []\n",
    "\n",
    "trials_pos = []\n",
    "trials_neg = []"
   ]
  },
  {
   "cell_type": "code",
   "execution_count": null,
   "metadata": {},
   "outputs": [],
   "source": [
    "for i in range(len(patterns)):\n",
    "    p = patterns[i]\n",
    "    print('Pattern ' + str(p))\n",
    "    filepath = '/Volumes/Scratch/Users/praful/triplet_gsort_v2_30um_periphery-affinity/' + dataset + 'p' + str(p) + '/'\n",
    "\n",
    "    triplet_elecs = (loadmat(electrical_path + 'pattern_files/p' + str(p) + '.mat', \n",
    "                             squeeze_me=True, struct_as_record=False)['patternStruct'].stimElecs)\n",
    "\n",
    "    amplitudes = (loadmat(electrical_path + 'pattern_files/p' + str(p) + '.mat', \n",
    "                             squeeze_me=True, struct_as_record=False)['patternStruct'].amplitudes)\n",
    "        \n",
    "    num_pts = len(amplitudes)\n",
    "\n",
    "    triplet_probs = np.zeros(num_pts)\n",
    "    triplet_trials = np.zeros(num_pts, dtype=int)\n",
    "    for k in range(num_pts):\n",
    "        with open(filepath + 'gsort_tri_v2_n'+str(n)+'_p'+str(p)+'_k'+str(k)+'.pkl', 'rb') as f:\n",
    "            prob_dict = pickle.load(f)\n",
    "            triplet_probs[k] = prob_dict['prob']\n",
    "            triplet_trials[k] = prob_dict['num_trials']\n",
    "\n",
    "    neg_inds = np.where((np.all(amplitudes < 0, axis=1)) & (triplet_probs > 0.08))[0]\n",
    "    pos_inds = np.where((np.all(amplitudes > 0, axis=1)) & (triplet_probs > 0.08))[0]\n",
    "    \n",
    "    elec_inds = np.searchsorted(all_elecs_array, triplet_elecs)\n",
    "    \n",
    "    y = triplet_probs[pos_inds]\n",
    "    X = amplitudes[pos_inds]\n",
    "    trials = triplet_trials[pos_inds]\n",
    "    X_pos_p = np.zeros((len(pos_inds), len(all_elecs_array)))\n",
    "    X_pos_p[:, elec_inds] = X\n",
    "    X_pos.append(X_pos_p)\n",
    "    y_pos.append(y)\n",
    "    trials_pos.append(trials)\n",
    "    \n",
    "    y = triplet_probs[neg_inds]\n",
    "    X = amplitudes[neg_inds]\n",
    "    trials = triplet_trials[neg_inds]\n",
    "    X_neg_p = np.zeros((len(neg_inds), len(all_elecs_array)))\n",
    "    X_neg_p[:, elec_inds] = X\n",
    "    X_neg.append(X_neg_p)\n",
    "    y_neg.append(y)\n",
    "    trials_neg.append(trials)\n",
    "    \n",
    "    print(all_elecs_array)\n",
    "    print(triplet_elecs)\n",
    "    print(elec_inds)\n",
    "    print(amplitudes[neg_inds])\n",
    "    print(X_neg_p)\n",
    "    print(y)\n",
    "    print(trials)"
   ]
  },
  {
   "cell_type": "code",
   "execution_count": null,
   "metadata": {},
   "outputs": [],
   "source": [
    "all_amps_neg = np.vstack(X_neg)\n",
    "all_probs_neg = np.hstack(y_neg)\n",
    "trials_neg = np.hstack(trials_neg)"
   ]
  },
  {
   "cell_type": "code",
   "execution_count": null,
   "metadata": {},
   "outputs": [],
   "source": [
    "all_amps_pos = np.vstack(X_pos)\n",
    "all_probs_pos = np.hstack(y_pos)\n",
    "trials_pos = np.hstack(trials_pos)"
   ]
  },
  {
   "cell_type": "code",
   "execution_count": null,
   "metadata": {},
   "outputs": [],
   "source": [
    "all_amps_neg"
   ]
  },
  {
   "cell_type": "code",
   "execution_count": null,
   "metadata": {},
   "outputs": [],
   "source": [
    "all_amps_pos.shape, all_probs_pos.shape, trials_pos.shape"
   ]
  },
  {
   "cell_type": "code",
   "execution_count": null,
   "metadata": {},
   "outputs": [],
   "source": [
    "def convertToBinaryClassifier(probs, num_trials, amplitudes, degree=1):\n",
    "    y = []\n",
    "    X = []\n",
    "    for j in range(len(amplitudes)):\n",
    "        num1s = int(np.around(probs[j] * num_trials[j], 0))\n",
    "        num0s = num_trials[j] - num1s\n",
    "\n",
    "        X.append(np.tile(amplitudes[j], (num_trials[j], 1)))\n",
    "        y.append(np.concatenate((np.ones(num1s), np.zeros(num0s))))\n",
    "        \n",
    "    poly = PolynomialFeatures(degree)\n",
    "    X = poly.fit_transform(np.concatenate(X))\n",
    "    y = np.concatenate(y)\n",
    "    \n",
    "    return X, y"
   ]
  },
  {
   "cell_type": "code",
   "execution_count": null,
   "metadata": {},
   "outputs": [],
   "source": [
    "degree = 4\n",
    "multi_X, multi_y = convertToBinaryClassifier(all_probs_neg, trials_neg, all_amps_neg, degree)"
   ]
  },
  {
   "cell_type": "code",
   "execution_count": null,
   "metadata": {},
   "outputs": [],
   "source": [
    "multi_X.shape, multi_y.shape"
   ]
  },
  {
   "cell_type": "code",
   "execution_count": null,
   "metadata": {},
   "outputs": [],
   "source": [
    "def negLL(params, *args):\n",
    "    X, y, verbose, method = args\n",
    "    \n",
    "    w = params\n",
    "    \n",
    "    # Get predicted probability of spike using current parameters\n",
    "    yPred = 1 / (1 + np.exp(-X @ w))\n",
    "    yPred[yPred == 1] = 0.999999     # some errors when yPred is exactly 1 due to taking log(1 - 1)\n",
    "\n",
    "    # Calculate negative log likelihood\n",
    "    NLL = -np.sum(y * np.log2(yPred) + (1 - y) * np.log2(1 - yPred))     # negative log likelihood for logistic\n",
    "\n",
    "    # if method == 'MAP':\n",
    "    #     penalty = 0.5 * (w - mu) @ np.linalg.inv(cov) @ (w - mu)     # penalty term according to MAP regularization\n",
    "    # else:\n",
    "    #     penalty = 0\n",
    "    penalty = 0\n",
    "    if verbose:\n",
    "        print(NLL, penalty)\n",
    "    return(NLL + penalty)"
   ]
  },
  {
   "cell_type": "code",
   "execution_count": null,
   "metadata": {},
   "outputs": [],
   "source": [
    "def fsigmoid(X, w):\n",
    "    return 1.0 / (1.0 + np.exp(-X @ w))"
   ]
  },
  {
   "cell_type": "code",
   "execution_count": null,
   "metadata": {},
   "outputs": [],
   "source": [
    "mu = np.concatenate((np.array([1]), np.zeros(multi_X.shape[-1]-1)))\n",
    "multi_results = minimize(negLL, x0=mu, args=(multi_X, multi_y, False, 'none'))\n",
    "multi_weights = multi_results.x"
   ]
  },
  {
   "cell_type": "code",
   "execution_count": null,
   "metadata": {},
   "outputs": [],
   "source": [
    "multi_weights"
   ]
  },
  {
   "cell_type": "code",
   "execution_count": null,
   "metadata": {},
   "outputs": [],
   "source": [
    "poly = PolynomialFeatures(degree)\n",
    "test_X = poly.fit_transform(all_amps_neg)\n",
    "test_y = all_probs_neg\n",
    "\n",
    "plt.scatter(test_X @ multi_weights, test_y)\n",
    "sigmoid_x = np.linspace(-4, 4, 100)\n",
    "plt.plot(sigmoid_x, 1/(1 + np.exp(-sigmoid_x)))"
   ]
  }
 ],
 "metadata": {
  "kernelspec": {
   "display_name": "Python 3 (ipykernel)",
   "language": "python",
   "name": "python3"
  },
  "language_info": {
   "codemirror_mode": {
    "name": "ipython",
    "version": 3
   },
   "file_extension": ".py",
   "mimetype": "text/x-python",
   "name": "python",
   "nbconvert_exporter": "python",
   "pygments_lexer": "ipython3",
   "version": "3.9.2"
  }
 },
 "nbformat": 4,
 "nbformat_minor": 2
}
