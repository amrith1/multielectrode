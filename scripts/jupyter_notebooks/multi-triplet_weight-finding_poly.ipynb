{
 "cells": [
  {
   "cell_type": "code",
   "execution_count": 33,
   "metadata": {},
   "outputs": [
    {
     "name": "stdout",
     "output_type": "stream",
     "text": [
      "The autoreload extension is already loaded. To reload it, use:\n",
      "  %reload_ext autoreload\n"
     ]
    }
   ],
   "source": [
    "import numpy as np\n",
    "import pickle\n",
    "import matplotlib.pyplot as plt\n",
    "from scipy.io import loadmat\n",
    "import visionloader as vl\n",
    "from sklearn.model_selection import train_test_split\n",
    "from sklearn.preprocessing import PolynomialFeatures\n",
    "import statsmodels.api as sm\n",
    "from scipy.optimize import minimize, differential_evolution\n",
    "import os\n",
    "import src.fitting as fitting\n",
    "import src.multielec_utils as mutils\n",
    "\n",
    "%load_ext autoreload\n",
    "%autoreload 2"
   ]
  },
  {
   "cell_type": "markdown",
   "metadata": {},
   "source": [
    "# Load in triplet stim elecResps and amplitudes"
   ]
  },
  {
   "cell_type": "code",
   "execution_count": 2,
   "metadata": {},
   "outputs": [],
   "source": [
    "dataset = \"2021-05-27-4/data003/\"\n",
    "electrical_path = \"/Volumes/Analysis/\" + dataset"
   ]
  },
  {
   "cell_type": "code",
   "execution_count": 3,
   "metadata": {},
   "outputs": [],
   "source": [
    "vis_datapath = \"/Volumes/Analysis/2021-05-27-4/data001\"\n",
    "vis_datarun = \"data001\"\n",
    "vcd = vl.load_vision_data(\n",
    "    vis_datapath,\n",
    "    vis_datarun,\n",
    "    include_neurons=True,\n",
    "    include_ei=True,\n",
    "    include_params=True,\n",
    "    include_noise=True,\n",
    ")\n",
    "\n",
    "coords = vcd.get_electrode_map()"
   ]
  },
  {
   "cell_type": "code",
   "execution_count": 110,
   "metadata": {},
   "outputs": [],
   "source": [
    "patterns = np.array([24])\n",
    "n = 3711"
   ]
  },
  {
   "cell_type": "code",
   "execution_count": 111,
   "metadata": {
    "scrolled": true
   },
   "outputs": [
    {
     "name": "stdout",
     "output_type": "stream",
     "text": [
      "Pattern 24\n"
     ]
    }
   ],
   "source": [
    "all_elecs = []\n",
    "neg_inds_total = 0\n",
    "pos_inds_total = 0\n",
    "\n",
    "for i in range(len(patterns)):\n",
    "    p = patterns[i]\n",
    "    print(\"Pattern \" + str(p))\n",
    "    filepath = (\n",
    "        \"/Volumes/Scratch/Users/praful/triplet_gsort_v2_30um_periphery-affinity/\"\n",
    "        + dataset\n",
    "        + \"p\"\n",
    "        + str(p)\n",
    "        + \"/\"\n",
    "    )\n",
    "\n",
    "    triplet_elecs = mutils.get_stim_elecs_newlv(electrical_path, p)\n",
    "    amplitudes = mutils.get_stim_amps_newlv(electrical_path, p)\n",
    "\n",
    "    num_pts = len(amplitudes)\n",
    "\n",
    "    triplet_probs = np.zeros(num_pts)\n",
    "    for k in range(num_pts):\n",
    "        with open(\n",
    "            filepath\n",
    "            + \"gsort_tri_v2_n\"\n",
    "            + str(n)\n",
    "            + \"_p\"\n",
    "            + str(p)\n",
    "            + \"_k\"\n",
    "            + str(k)\n",
    "            + \".pkl\",\n",
    "            \"rb\",\n",
    "        ) as f:\n",
    "            prob_dict = pickle.load(f)\n",
    "            triplet_probs[k] = prob_dict[\"prob\"]\n",
    "\n",
    "    neg_inds = np.where((np.all(amplitudes < 0, axis=1)) & (triplet_probs > 0.08))[0]\n",
    "    pos_inds = np.where((np.all(amplitudes > 0, axis=1)) & (triplet_probs > 0.08))[0]\n",
    "    all_elecs.append(triplet_elecs)\n",
    "\n",
    "    pos_inds_total += len(pos_inds)\n",
    "    neg_inds_total += len(neg_inds)"
   ]
  },
  {
   "cell_type": "code",
   "execution_count": 112,
   "metadata": {},
   "outputs": [
    {
     "data": {
      "text/plain": [
       "(13, 17)"
      ]
     },
     "execution_count": 112,
     "metadata": {},
     "output_type": "execute_result"
    }
   ],
   "source": [
    "pos_inds_total, neg_inds_total"
   ]
  },
  {
   "cell_type": "code",
   "execution_count": 113,
   "metadata": {},
   "outputs": [],
   "source": [
    "all_elecs_array = np.unique(np.array(all_elecs))"
   ]
  },
  {
   "cell_type": "code",
   "execution_count": 114,
   "metadata": {},
   "outputs": [
    {
     "data": {
      "text/plain": [
       "array([189, 201, 203], dtype=uint8)"
      ]
     },
     "execution_count": 114,
     "metadata": {},
     "output_type": "execute_result"
    }
   ],
   "source": [
    "all_elecs_array"
   ]
  },
  {
   "cell_type": "code",
   "execution_count": 115,
   "metadata": {},
   "outputs": [],
   "source": [
    "X_pos = []\n",
    "y_pos = []\n",
    "\n",
    "X_neg = []\n",
    "y_neg = []\n",
    "\n",
    "trials_pos = []\n",
    "trials_neg = []"
   ]
  },
  {
   "cell_type": "code",
   "execution_count": 116,
   "metadata": {},
   "outputs": [
    {
     "name": "stdout",
     "output_type": "stream",
     "text": [
      "Pattern 24\n",
      "[189 201 203]\n",
      "[203 189 201]\n",
      "[2 0 1]\n",
      "[[-0.84375 -1.21875 -1.78125]\n",
      " [-0.65625 -1.03125 -1.59375]\n",
      " [-1.78125 -0.46875 -1.59375]\n",
      " [-1.78125 -1.78125 -0.28125]\n",
      " [-0.46875 -0.46875 -1.21875]\n",
      " [-1.03125 -1.59375 -1.03125]\n",
      " [-1.78125 -1.59375 -1.78125]\n",
      " [-1.21875 -0.09375 -1.59375]\n",
      " [-0.84375 -0.65625 -1.40625]\n",
      " [-1.78125 -0.46875 -1.59375]\n",
      " [-1.40625 -1.03125 -0.28125]\n",
      " [-1.40625 -0.84375 -0.65625]\n",
      " [-1.78125 -1.59375 -0.28125]\n",
      " [-1.21875 -0.65625 -1.03125]\n",
      " [-1.03125 -1.21875 -1.59375]\n",
      " [-0.65625 -1.40625 -1.78125]\n",
      " [-1.03125 -1.40625 -0.84375]]\n",
      "[[-1.21875 -1.78125 -0.84375]\n",
      " [-1.03125 -1.59375 -0.65625]\n",
      " [-0.46875 -1.59375 -1.78125]\n",
      " [-1.78125 -0.28125 -1.78125]\n",
      " [-0.46875 -1.21875 -0.46875]\n",
      " [-1.59375 -1.03125 -1.03125]\n",
      " [-1.59375 -1.78125 -1.78125]\n",
      " [-0.09375 -1.59375 -1.21875]\n",
      " [-0.65625 -1.40625 -0.84375]\n",
      " [-0.46875 -1.59375 -1.78125]\n",
      " [-1.03125 -0.28125 -1.40625]\n",
      " [-0.84375 -0.65625 -1.40625]\n",
      " [-1.59375 -0.28125 -1.78125]\n",
      " [-0.65625 -1.03125 -1.21875]\n",
      " [-1.21875 -1.59375 -1.03125]\n",
      " [-1.40625 -1.78125 -0.65625]\n",
      " [-1.40625 -0.84375 -1.03125]]\n",
      "[0.15789474 0.1        0.525      0.36842105 0.10526316 0.15789474\n",
      " 0.15789474 0.57894737 0.1        0.525      0.78947368 0.84210526\n",
      " 0.1        0.63157895 0.5        0.1        0.15789474]\n",
      "[19 20 40 19 19 19 19 19 20 40 19 19 20 19 20 20 19]\n"
     ]
    }
   ],
   "source": [
    "for i in range(len(patterns)):\n",
    "    p = patterns[i]\n",
    "    print(\"Pattern \" + str(p))\n",
    "    filepath = (\n",
    "        \"/Volumes/Scratch/Users/praful/triplet_gsort_v2_30um_periphery-affinity/\"\n",
    "        + dataset\n",
    "        + \"p\"\n",
    "        + str(p)\n",
    "        + \"/\"\n",
    "    )\n",
    "\n",
    "    triplet_elecs = mutils.get_stim_elecs_newlv(electrical_path, p)\n",
    "    amplitudes = mutils.get_stim_amps_newlv(electrical_path, p)\n",
    "\n",
    "    num_pts = len(amplitudes)\n",
    "\n",
    "    triplet_probs = np.zeros(num_pts)\n",
    "    triplet_trials = np.zeros(num_pts, dtype=int)\n",
    "    for k in range(num_pts):\n",
    "        with open(\n",
    "            filepath\n",
    "            + \"gsort_tri_v2_n\"\n",
    "            + str(n)\n",
    "            + \"_p\"\n",
    "            + str(p)\n",
    "            + \"_k\"\n",
    "            + str(k)\n",
    "            + \".pkl\",\n",
    "            \"rb\",\n",
    "        ) as f:\n",
    "            prob_dict = pickle.load(f)\n",
    "            triplet_probs[k] = prob_dict[\"prob\"]\n",
    "            triplet_trials[k] = prob_dict[\"num_trials\"]\n",
    "\n",
    "    neg_inds = np.where((np.all(amplitudes < 0, axis=1)) & (triplet_probs > 0.08))[0]\n",
    "    pos_inds = np.where((np.all(amplitudes > 0, axis=1)) & (triplet_probs > 0.08))[0]\n",
    "\n",
    "    elec_inds = np.searchsorted(all_elecs_array, triplet_elecs)\n",
    "\n",
    "    y = triplet_probs[pos_inds]\n",
    "    X = amplitudes[pos_inds]\n",
    "    trials = triplet_trials[pos_inds]\n",
    "    X_pos_p = np.zeros((len(pos_inds), len(all_elecs_array)))\n",
    "    X_pos_p[:, elec_inds] = X\n",
    "    X_pos.append(X_pos_p)\n",
    "    y_pos.append(y)\n",
    "    trials_pos.append(trials)\n",
    "\n",
    "    y = triplet_probs[neg_inds]\n",
    "    X = amplitudes[neg_inds]\n",
    "    trials = triplet_trials[neg_inds]\n",
    "    X_neg_p = np.zeros((len(neg_inds), len(all_elecs_array)))\n",
    "    X_neg_p[:, elec_inds] = X\n",
    "    X_neg.append(X_neg_p)\n",
    "    y_neg.append(y)\n",
    "    trials_neg.append(trials)\n",
    "\n",
    "    print(all_elecs_array)\n",
    "    print(triplet_elecs)\n",
    "    print(elec_inds)\n",
    "    print(amplitudes[neg_inds])\n",
    "    print(X_neg_p)\n",
    "    print(y)\n",
    "    print(trials)"
   ]
  },
  {
   "cell_type": "code",
   "execution_count": 117,
   "metadata": {},
   "outputs": [],
   "source": [
    "all_amps_neg = np.vstack(X_neg)\n",
    "all_probs_neg = np.hstack(y_neg)\n",
    "trials_neg = np.hstack(trials_neg)"
   ]
  },
  {
   "cell_type": "code",
   "execution_count": 118,
   "metadata": {},
   "outputs": [],
   "source": [
    "all_amps_pos = np.vstack(X_pos)\n",
    "all_probs_pos = np.hstack(y_pos)\n",
    "trials_pos = np.hstack(trials_pos)"
   ]
  },
  {
   "cell_type": "code",
   "execution_count": 119,
   "metadata": {},
   "outputs": [
    {
     "data": {
      "text/plain": [
       "array([[-1.21875, -1.78125, -0.84375],\n",
       "       [-1.03125, -1.59375, -0.65625],\n",
       "       [-0.46875, -1.59375, -1.78125],\n",
       "       [-1.78125, -0.28125, -1.78125],\n",
       "       [-0.46875, -1.21875, -0.46875],\n",
       "       [-1.59375, -1.03125, -1.03125],\n",
       "       [-1.59375, -1.78125, -1.78125],\n",
       "       [-0.09375, -1.59375, -1.21875],\n",
       "       [-0.65625, -1.40625, -0.84375],\n",
       "       [-0.46875, -1.59375, -1.78125],\n",
       "       [-1.03125, -0.28125, -1.40625],\n",
       "       [-0.84375, -0.65625, -1.40625],\n",
       "       [-1.59375, -0.28125, -1.78125],\n",
       "       [-0.65625, -1.03125, -1.21875],\n",
       "       [-1.21875, -1.59375, -1.03125],\n",
       "       [-1.40625, -1.78125, -0.65625],\n",
       "       [-1.40625, -0.84375, -1.03125]])"
      ]
     },
     "execution_count": 119,
     "metadata": {},
     "output_type": "execute_result"
    }
   ],
   "source": [
    "all_amps_neg"
   ]
  },
  {
   "cell_type": "code",
   "execution_count": 120,
   "metadata": {},
   "outputs": [
    {
     "data": {
      "text/plain": [
       "((13, 3), (13,), (13,))"
      ]
     },
     "execution_count": 120,
     "metadata": {},
     "output_type": "execute_result"
    }
   ],
   "source": [
    "all_amps_pos.shape, all_probs_pos.shape, trials_pos.shape"
   ]
  },
  {
   "cell_type": "code",
   "execution_count": 121,
   "metadata": {},
   "outputs": [],
   "source": [
    "train_amps_pos, test_amps_pos, train_probs_pos, test_probs_pos, train_trials_pos, _ = train_test_split(all_amps_pos, all_probs_pos, trials_pos, test_size=0.2)\n",
    "train_amps_neg, test_amps_neg, train_probs_neg, test_probs_neg, train_trials_neg, _ = train_test_split(all_amps_neg, all_probs_neg, trials_neg, test_size=0.2)"
   ]
  },
  {
   "cell_type": "code",
   "execution_count": 148,
   "metadata": {},
   "outputs": [],
   "source": [
    "degree = 1\n",
    "multi_X, multi_y = fitting.convertToBinaryClassifier(\n",
    "    train_probs_neg, train_trials_neg, train_amps_neg, degree\n",
    ")"
   ]
  },
  {
   "cell_type": "code",
   "execution_count": 149,
   "metadata": {},
   "outputs": [
    {
     "data": {
      "text/plain": [
       "((291, 4), (291,))"
      ]
     },
     "execution_count": 149,
     "metadata": {},
     "output_type": "execute_result"
    }
   ],
   "source": [
    "multi_X.shape, multi_y.shape"
   ]
  },
  {
   "cell_type": "code",
   "execution_count": 150,
   "metadata": {},
   "outputs": [],
   "source": [
    "mu = np.concatenate((np.array([1]), np.zeros(multi_X.shape[-1] - 1)))\n",
    "multi_results = minimize(fitting.negLL, x0=mu, args=(multi_X, multi_y, False, \"none\"))\n",
    "multi_weights = multi_results.x"
   ]
  },
  {
   "cell_type": "code",
   "execution_count": 151,
   "metadata": {},
   "outputs": [
    {
     "data": {
      "text/plain": [
       "array([ 0.5254282 ,  1.21386828,  0.92897619, -0.9921508 ])"
      ]
     },
     "execution_count": 151,
     "metadata": {},
     "output_type": "execute_result"
    }
   ],
   "source": [
    "multi_weights"
   ]
  },
  {
   "cell_type": "code",
   "execution_count": 152,
   "metadata": {},
   "outputs": [
    {
     "data": {
      "text/plain": [
       "[<matplotlib.lines.Line2D at 0x7f8ecb1a9eb0>]"
      ]
     },
     "execution_count": 152,
     "metadata": {},
     "output_type": "execute_result"
    },
    {
     "data": {
      "image/png": "[encoded data removed]",
      "text/plain": [
       "<Figure size 432x288 with 1 Axes>"
      ]
     },
     "metadata": {
      "needs_background": "light"
     },
     "output_type": "display_data"
    }
   ],
   "source": [
    "poly = PolynomialFeatures(degree)\n",
    "test_X = poly.fit_transform(test_amps_neg)\n",
    "test_y = test_probs_neg\n",
    "\n",
    "train_X = poly.fit_transform(train_amps_neg)\n",
    "train_y = train_probs_neg\n",
    "\n",
    "plt.scatter(train_X @ multi_weights, train_y)\n",
    "plt.scatter(test_X @ multi_weights, test_y)\n",
    "sigmoid_x = np.linspace(-4, 4, 100)\n",
    "plt.plot(sigmoid_x, 1 / (1 + np.exp(-sigmoid_x)))"
   ]
  },
  {
   "cell_type": "code",
   "execution_count": 153,
   "metadata": {},
   "outputs": [],
   "source": [
    "degree = 1\n",
    "multi_X, multi_y = fitting.convertToBinaryClassifier(\n",
    "    train_probs_pos, train_trials_pos, train_amps_pos, degree\n",
    ")"
   ]
  },
  {
   "cell_type": "code",
   "execution_count": 154,
   "metadata": {},
   "outputs": [
    {
     "data": {
      "text/plain": [
       "((191, 4), (191,))"
      ]
     },
     "execution_count": 154,
     "metadata": {},
     "output_type": "execute_result"
    }
   ],
   "source": [
    "multi_X.shape, multi_y.shape"
   ]
  },
  {
   "cell_type": "code",
   "execution_count": 155,
   "metadata": {},
   "outputs": [],
   "source": [
    "mu = np.concatenate((np.array([1]), np.zeros(multi_X.shape[-1] - 1)))\n",
    "multi_results = minimize(fitting.negLL, x0=mu, args=(multi_X, multi_y, False, \"none\"))\n",
    "multi_weights = multi_results.x"
   ]
  },
  {
   "cell_type": "code",
   "execution_count": 156,
   "metadata": {},
   "outputs": [
    {
     "data": {
      "text/plain": [
       "array([-3.37048015,  0.98258001,  0.48103451,  0.93289226])"
      ]
     },
     "execution_count": 156,
     "metadata": {},
     "output_type": "execute_result"
    }
   ],
   "source": [
    "multi_weights"
   ]
  },
  {
   "cell_type": "code",
   "execution_count": 157,
   "metadata": {},
   "outputs": [
    {
     "data": {
      "text/plain": [
       "[<matplotlib.lines.Line2D at 0x7f8ecb11ec70>]"
      ]
     },
     "execution_count": 157,
     "metadata": {},
     "output_type": "execute_result"
    },
    {
     "data": {
      "image/png": "[encoded data removed]",
      "text/plain": [
       "<Figure size 432x288 with 1 Axes>"
      ]
     },
     "metadata": {
      "needs_background": "light"
     },
     "output_type": "display_data"
    }
   ],
   "source": [
    "poly = PolynomialFeatures(degree)\n",
    "test_X = poly.fit_transform(test_amps_pos)\n",
    "test_y = test_probs_pos\n",
    "\n",
    "train_X = poly.fit_transform(train_amps_pos)\n",
    "train_y = train_probs_pos\n",
    "\n",
    "plt.scatter(train_X @ multi_weights, train_y)\n",
    "plt.scatter(test_X @ multi_weights, test_y)\n",
    "sigmoid_x = np.linspace(-4, 4, 100)\n",
    "plt.plot(sigmoid_x, 1 / (1 + np.exp(-sigmoid_x)))"
   ]
  },
  {
   "cell_type": "code",
   "execution_count": null,
   "metadata": {},
   "outputs": [],
   "source": []
  }
 ],
 "metadata": {
  "kernelspec": {
   "display_name": "Python 3 (ipykernel)",
   "language": "python",
   "name": "python3"
  },
  "language_info": {
   "codemirror_mode": {
    "name": "ipython",
    "version": 3
   },
   "file_extension": ".py",
   "mimetype": "text/x-python",
   "name": "python",
   "nbconvert_exporter": "python",
   "pygments_lexer": "ipython3",
   "version": "3.9.2"
  }
 },
 "nbformat": 4,
 "nbformat_minor": 2
}
