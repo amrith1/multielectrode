{
 "cells": [
  {
   "cell_type": "code",
   "execution_count": 1,
   "metadata": {},
   "outputs": [],
   "source": [
    "import numpy as np\n",
    "import pickle\n",
    "import matplotlib.pyplot as plt\n",
    "from scipy.io import loadmat\n",
    "import visionloader as vl\n",
    "from sklearn.model_selection import train_test_split\n",
    "from sklearn.preprocessing import PolynomialFeatures\n",
    "import statsmodels.api as sm\n",
    "from scipy.optimize import minimize, differential_evolution\n",
    "import os\n",
    "import src.fitting as fitting\n",
    "import src.multielec_utils as mutils\n",
    "# from mpl_toolkits.mplot3d import Axes3D\n",
    "import matplotlib.animation as animation\n",
    "\n",
    "%load_ext autoreload\n",
    "%autoreload 2\n",
    "# %matplotlib ipympl"
   ]
  },
  {
   "cell_type": "markdown",
   "metadata": {},
   "source": [
    "# Load in triplet stim elecResps and amplitudes"
   ]
  },
  {
   "cell_type": "code",
   "execution_count": 2,
   "metadata": {},
   "outputs": [],
   "source": [
    "dataset = \"2021-05-27-0/data005/data005-all/\"\n",
    "electrical_path = \"/Volumes/Analysis/\" + dataset"
   ]
  },
  {
   "cell_type": "code",
   "execution_count": 3,
   "metadata": {},
   "outputs": [],
   "source": [
    "vis_datapath = \"/Volumes/Analysis/2021-05-27-0/kilosort_data001/data001\"\n",
    "vis_datarun = \"data001\"\n",
    "vcd = vl.load_vision_data(\n",
    "    vis_datapath,\n",
    "    vis_datarun,\n",
    "    include_neurons=True,\n",
    "    include_ei=True,\n",
    "    include_params=True,\n",
    "    include_noise=True,\n",
    ")\n",
    "\n",
    "coords = vcd.get_electrode_map()"
   ]
  },
  {
   "cell_type": "code",
   "execution_count": 4,
   "metadata": {},
   "outputs": [],
   "source": [
    "patterns = np.array([2])\n",
    "n = 595"
   ]
  },
  {
   "cell_type": "code",
   "execution_count": 5,
   "metadata": {
    "scrolled": true
   },
   "outputs": [
    {
     "name": "stdout",
     "output_type": "stream",
     "text": [
      "Pattern 2\n"
     ]
    }
   ],
   "source": [
    "all_elecs = []\n",
    "neg_inds_total = 0\n",
    "pos_inds_total = 0\n",
    "\n",
    "for i in range(len(patterns)):\n",
    "    p = patterns[i]\n",
    "    print(\"Pattern \" + str(p))\n",
    "    filepath = (\n",
    "        \"/Volumes/Scratch/Users/praful/triplet_gsort_v2_30um_raphe-affinity/\"\n",
    "        + dataset\n",
    "        + \"p\"\n",
    "        + str(p)\n",
    "        + \"/\"\n",
    "    )\n",
    "\n",
    "    triplet_elecs = mutils.get_stim_elecs_newlv(electrical_path, p)\n",
    "    amplitudes = mutils.get_stim_amps_newlv(electrical_path, p)\n",
    "\n",
    "    num_pts = len(amplitudes)\n",
    "\n",
    "    triplet_probs = np.zeros(num_pts)\n",
    "    for k in range(num_pts):\n",
    "        with open(\n",
    "            filepath\n",
    "            + \"gsort_tri_v2_n\"\n",
    "            + str(n)\n",
    "            + \"_p\"\n",
    "            + str(p)\n",
    "            + \"_k\"\n",
    "            + str(k)\n",
    "            + \".pkl\",\n",
    "            \"rb\",\n",
    "        ) as f:\n",
    "            prob_dict = pickle.load(f)\n",
    "            triplet_probs[k] = prob_dict[\"prob\"]\n",
    "\n",
    "    neg_inds = np.where((np.all(amplitudes < 0, axis=1)) & (triplet_probs > 0.08))[0]\n",
    "    pos_inds = np.where((np.all(amplitudes > 0, axis=1)) & (triplet_probs > 0.08))[0]\n",
    "    good_inds = np.where(triplet_probs > 0.5)[0]\n",
    "    all_elecs.append(triplet_elecs)\n",
    "\n",
    "    pos_inds_total += len(pos_inds)\n",
    "    neg_inds_total += len(neg_inds)"
   ]
  },
  {
   "cell_type": "code",
   "execution_count": 6,
   "metadata": {},
   "outputs": [
    {
     "data": {
      "text/plain": [
       "1123"
      ]
     },
     "execution_count": 6,
     "metadata": {},
     "output_type": "execute_result"
    }
   ],
   "source": [
    "len(good_inds)"
   ]
  },
  {
   "cell_type": "code",
   "execution_count": null,
   "metadata": {},
   "outputs": [],
   "source": [
    "fig = plt.figure()\n",
    "ax = Axes3D(fig)\n",
    "plt.xlabel(r'$I_1$')\n",
    "plt.ylabel(r'$I_2$')\n",
    "ax.set_zlabel(r'$I_3$')\n",
    "\n",
    "scat = ax.scatter(amplitudes[:, 0][good_inds], \n",
    "            amplitudes[:, 1][good_inds],\n",
    "            amplitudes[:, 2][good_inds], marker='o', s=20, c=triplet_probs[good_inds], alpha=0.8)\n",
    "\n",
    "clb = plt.colorbar(scat)"
   ]
  },
  {
   "cell_type": "code",
   "execution_count": null,
   "metadata": {},
   "outputs": [],
   "source": [
    "# Create a figure and a 3D Axes\n",
    "fig = plt.figure()\n",
    "ax = Axes3D(fig)\n",
    "plt.xlabel(r'$I_1$')\n",
    "plt.ylabel(r'$I_2$')\n",
    "ax.set_zlabel(r'$I_3$')\n",
    "\n",
    "# Create an init function and the animate functions.\n",
    "# Both are explained in the tutorial. Since we are changing\n",
    "# the the elevation and azimuth and no objects are really\n",
    "# changed on the plot we don't have to return anything from\n",
    "# the init and animate function. (return value is explained\n",
    "# in the tutorial.\n",
    "def init():\n",
    "    ax.scatter(amplitudes[:, 0][good_inds], \n",
    "               amplitudes[:, 1][good_inds],\n",
    "               amplitudes[:, 2][good_inds], marker='o', s=20, c=triplet_probs[good_inds], alpha=0.8)\n",
    "    \n",
    "    return fig,\n",
    "\n",
    "def animate(i):\n",
    "    ax.view_init(elev=10., azim=i)\n",
    "    return fig,\n",
    "\n",
    "# Animate\n",
    "anim = animation.FuncAnimation(fig, animate, init_func=init,\n",
    "                               frames=360, interval=20, blit=True)\n",
    "# Save\n",
    "# anim.save('/Volumes/Lab/Users/praful/thresh_surface_comp_p.gif', writer='imagemagick', fps=30)\n",
    "plt.show()"
   ]
  },
  {
   "cell_type": "code",
   "execution_count": 7,
   "metadata": {},
   "outputs": [
    {
     "data": {
      "text/plain": [
       "(326, 392)"
      ]
     },
     "execution_count": 7,
     "metadata": {},
     "output_type": "execute_result"
    }
   ],
   "source": [
    "pos_inds_total, neg_inds_total"
   ]
  },
  {
   "cell_type": "code",
   "execution_count": 8,
   "metadata": {},
   "outputs": [],
   "source": [
    "all_elecs_array = np.unique(np.array(all_elecs))"
   ]
  },
  {
   "cell_type": "code",
   "execution_count": 9,
   "metadata": {},
   "outputs": [
    {
     "data": {
      "text/plain": [
       "array([429, 438, 439], dtype=uint16)"
      ]
     },
     "execution_count": 9,
     "metadata": {},
     "output_type": "execute_result"
    }
   ],
   "source": [
    "all_elecs_array"
   ]
  },
  {
   "cell_type": "code",
   "execution_count": 10,
   "metadata": {},
   "outputs": [],
   "source": [
    "X_pos = []\n",
    "y_pos = []\n",
    "\n",
    "X_neg = []\n",
    "y_neg = []\n",
    "\n",
    "trials_pos = []\n",
    "trials_neg = []"
   ]
  },
  {
   "cell_type": "code",
   "execution_count": 11,
   "metadata": {},
   "outputs": [
    {
     "name": "stdout",
     "output_type": "stream",
     "text": [
      "Pattern 2\n",
      "[429 438 439]\n",
      "[429 439 438]\n",
      "[0 2 1]\n",
      "[[-0.65625 -0.09375 -0.09375]\n",
      " [-0.46875 -0.28125 -0.09375]\n",
      " [-0.46875 -0.46875 -0.09375]\n",
      " ...\n",
      " [-0.28125 -1.78125 -1.78125]\n",
      " [-0.46875 -1.78125 -1.78125]\n",
      " [-1.59375 -1.78125 -1.78125]]\n",
      "[[-0.65625 -0.09375 -0.09375]\n",
      " [-0.46875 -0.09375 -0.28125]\n",
      " [-0.46875 -0.09375 -0.46875]\n",
      " ...\n",
      " [-0.28125 -1.78125 -1.78125]\n",
      " [-0.46875 -1.78125 -1.78125]\n",
      " [-1.59375 -1.78125 -1.78125]]\n",
      "[0.95       0.35       0.4        0.7        0.85       0.5\n",
      " 0.15       0.55       0.2        0.15       0.2        0.8\n",
      " 0.15       0.3        0.2        0.3        0.65       0.4\n",
      " 0.15       0.15       0.10526316 0.89473684 0.31578947 0.94736842\n",
      " 0.47368421 0.89473684 0.26315789 0.94736842 0.15789474 0.36842105\n",
      " 0.21052632 0.94736842 0.10526316 0.73684211 0.26315789 0.89473684\n",
      " 0.68421053 0.10526316 0.10526316 0.10526316 0.63157895 0.89473684\n",
      " 0.21052632 0.26315789 0.15789474 0.73684211 0.42105263 0.68421053\n",
      " 0.21052632 0.84210526 0.52631579 0.36842105 0.21052632 0.52631579\n",
      " 0.10526316 0.15789474 0.84210526 0.21052632 0.42105263 0.52631579\n",
      " 0.94736842 0.10526316 0.31578947 0.84210526 0.10526316 0.63157895\n",
      " 0.15789474 0.89473684 0.84210526 0.84210526 0.57894737 0.26315789\n",
      " 0.15789474 0.21052632 0.26315789 0.10526316 0.84210526 0.21052632\n",
      " 0.94736842 0.42105263 0.10526316 0.21052632 0.68421053 0.31578947\n",
      " 0.68421053 0.57894737 0.21052632 0.84210526 0.63157895 0.89473684\n",
      " 0.84210526 0.57894737 0.89473684 0.26315789 0.57894737 0.78947368\n",
      " 0.26315789 0.36842105 0.94736842 0.78947368 0.26315789 0.63157895\n",
      " 0.57894737 0.10526316 0.21052632 0.78947368 0.36842105 0.10526316\n",
      " 0.63157895 0.21052632 0.89473684 0.42105263 0.52631579 0.31578947\n",
      " 0.94736842 0.26315789 0.10526316 0.47368421 0.63157895 0.10526316\n",
      " 0.10526316 0.10526316 0.15789474 0.57894737 0.78947368 0.21052632\n",
      " 0.89473684 0.10526316 0.63157895 0.21052632 0.45       0.15\n",
      " 0.65       0.65       0.85       0.2        0.6        0.15\n",
      " 0.4        0.7        0.3        0.45       0.55       0.75\n",
      " 0.85       0.1        0.45       0.8        0.15       0.6\n",
      " 0.1        0.55       0.6        0.75       0.1        0.65\n",
      " 0.35       0.55       0.6        0.65       0.3        0.95\n",
      " 0.35       0.4        0.25       0.65       0.7        0.7\n",
      " 0.55       0.7        0.25       0.25       0.25       0.1\n",
      " 0.55       0.75       0.55       0.78947368 0.21052632 0.68421053\n",
      " 0.21052632 0.52631579 0.26315789 0.42105263 0.31578947 0.15789474\n",
      " 0.21052632 0.42105263 0.36842105 0.73684211 0.31578947 0.15789474\n",
      " 0.15789474 0.26315789 0.68421053 0.94736842 0.52631579 0.10526316\n",
      " 0.36842105 0.78947368 0.36842105 0.15789474 0.68421053 0.42105263\n",
      " 0.78947368 0.63157895 0.21052632 0.10526316 0.57894737 0.47368421\n",
      " 0.26315789 0.78947368 0.84210526 0.78947368 0.63157895 0.57894737\n",
      " 0.47368421 0.73684211 0.57894737 0.78947368 0.36842105 0.10526316\n",
      " 0.47368421 0.57894737 0.21052632 0.94736842 0.21052632 0.52631579\n",
      " 0.52631579 0.31578947 0.73684211 0.10526316 0.21052632 0.52631579\n",
      " 0.68421053 0.36842105 0.21052632 0.31578947 0.42105263 0.21052632\n",
      " 0.36842105 0.26315789 0.26315789 0.15789474 0.36842105 0.1\n",
      " 0.36842105 0.94736842 0.31578947 0.36842105 0.15789474 0.10526316\n",
      " 0.26315789 0.10526316 0.63157895 0.21052632 0.63157895 0.31578947\n",
      " 0.15789474 0.36842105 0.84210526 0.78947368 0.84210526 0.42105263\n",
      " 0.68421053 0.15789474 0.78947368 0.84210526 0.57894737 0.31578947\n",
      " 0.94736842 0.36842105 0.84210526 0.68421053 0.94736842 0.26315789\n",
      " 0.52631579 0.47368421 0.78947368 0.52631579 0.63157895 0.94736842\n",
      " 0.78947368 0.15789474 0.63157895 0.84210526 0.78947368 0.26315789\n",
      " 0.68421053 0.42105263 0.36842105 0.26315789 0.68421053 0.57894737\n",
      " 0.21052632 0.52631579 0.26315789 0.57894737 0.36842105 0.89473684\n",
      " 0.15789474 0.78947368 0.31578947 0.31578947 0.15789474 0.68421053\n",
      " 0.42105263 0.68421053 0.47368421 0.68421053 0.57894737 0.52631579\n",
      " 0.68421053 0.31578947 0.84210526 0.47368421 0.94736842 0.73684211\n",
      " 0.31578947 0.94736842 0.57894737 0.57894737 0.78947368 0.36842105\n",
      " 0.94736842 0.26315789 0.21052632 0.26315789 0.78947368 0.36842105\n",
      " 0.57894737 0.52631579 0.73684211 0.36842105 0.57894737 0.15789474\n",
      " 0.36842105 0.42105263 0.42105263 0.21052632 0.52631579 0.68421053\n",
      " 0.94736842 0.21052632 0.47368421 0.42105263 0.84210526 0.78947368\n",
      " 0.84210526 0.57894737 0.10526316 0.15789474 0.78947368 0.26315789\n",
      " 0.21052632 0.1        0.47368421 0.47368421 0.89473684 0.26315789\n",
      " 0.47368421 0.45       0.68421053 0.73684211 0.63157895 0.47368421\n",
      " 0.78947368 0.94736842 0.52631579 0.89473684 0.31578947 0.52631579\n",
      " 0.42105263 0.52631579 0.73684211 0.84210526 0.21052632 0.78947368\n",
      " 0.26315789 0.57894737 0.21052632 0.89473684 0.94736842 0.84210526\n",
      " 0.52631579 0.42105263 0.15789474 0.94736842 0.31578947 0.57894737\n",
      " 0.84210526 0.52631579]\n",
      "[20 20 20 20 20 20 20 20 20 20 20 20 20 20 20 20 20 20 20 20 19 19 19 19\n",
      " 19 19 19 19 19 19 19 19 19 19 19 19 19 19 19 19 19 19 19 19 19 19 19 19\n",
      " 19 19 19 19 19 19 19 19 19 19 19 19 19 19 19 19 19 19 19 19 19 19 19 19\n",
      " 19 19 19 19 19 19 19 19 19 19 19 19 19 19 19 19 19 19 19 19 19 19 19 19\n",
      " 19 19 19 19 19 19 19 19 19 19 19 19 19 19 19 19 19 19 19 19 19 19 19 19\n",
      " 19 19 19 19 19 19 19 19 19 19 20 20 20 20 20 20 20 20 20 20 20 20 20 20\n",
      " 20 20 20 20 20 20 20 20 20 20 20 20 20 20 20 20 20 20 20 20 20 20 20 20\n",
      " 20 20 20 20 20 20 20 20 20 19 19 19 19 19 19 19 19 19 19 19 19 19 19 19\n",
      " 19 19 19 19 19 19 19 19 19 19 19 19 19 19 19 19 19 19 19 19 19 19 19 19\n",
      " 19 19 19 19 19 19 19 19 19 19 19 19 19 19 19 19 19 19 19 19 19 19 19 19\n",
      " 19 19 19 19 19 20 19 19 19 19 19 19 19 19 19 19 19 19 19 19 19 19 19 19\n",
      " 19 19 19 19 19 19 19 19 19 19 19 19 19 19 19 19 19 19 19 19 19 19 19 19\n",
      " 19 19 19 19 19 19 19 19 19 19 19 19 19 19 19 19 19 19 19 19 19 19 19 19\n",
      " 19 19 19 19 19 19 19 19 19 19 19 19 19 19 19 19 19 19 19 19 19 19 19 19\n",
      " 19 19 19 19 19 19 19 19 19 19 19 19 19 19 19 19 19 19 19 20 19 19 19 19\n",
      " 19 20 19 19 19 19 19 19 19 19 19 19 19 19 19 19 19 19 19 19 19 19 19 19\n",
      " 19 19 19 19 19 19 19 19]\n"
     ]
    }
   ],
   "source": [
    "for i in range(len(patterns)):\n",
    "    p = patterns[i]\n",
    "    print(\"Pattern \" + str(p))\n",
    "    filepath = (\n",
    "        \"/Volumes/Scratch/Users/praful/triplet_gsort_v2_30um_raphe-affinity/\"\n",
    "        + dataset\n",
    "        + \"p\"\n",
    "        + str(p)\n",
    "        + \"/\"\n",
    "    )\n",
    "\n",
    "    triplet_elecs = mutils.get_stim_elecs_newlv(electrical_path, p)\n",
    "    amplitudes = mutils.get_stim_amps_newlv(electrical_path, p)\n",
    "\n",
    "    num_pts = len(amplitudes)\n",
    "\n",
    "    triplet_probs = np.zeros(num_pts)\n",
    "    triplet_trials = np.zeros(num_pts, dtype=int)\n",
    "    for k in range(num_pts):\n",
    "        with open(\n",
    "            filepath\n",
    "            + \"gsort_tri_v2_n\"\n",
    "            + str(n)\n",
    "            + \"_p\"\n",
    "            + str(p)\n",
    "            + \"_k\"\n",
    "            + str(k)\n",
    "            + \".pkl\",\n",
    "            \"rb\",\n",
    "        ) as f:\n",
    "            prob_dict = pickle.load(f)\n",
    "            triplet_probs[k] = prob_dict[\"prob\"]\n",
    "            triplet_trials[k] = prob_dict[\"num_trials\"]\n",
    "\n",
    "    neg_inds = np.where((np.all(amplitudes < 0, axis=1)) & (triplet_probs > 0.08))[0]\n",
    "    pos_inds = np.where((np.all(amplitudes > 0, axis=1)) & (triplet_probs > 0.08))[0]\n",
    "\n",
    "    elec_inds = np.searchsorted(all_elecs_array, triplet_elecs)\n",
    "\n",
    "    y = triplet_probs[pos_inds]\n",
    "    X = amplitudes[pos_inds]\n",
    "    trials = triplet_trials[pos_inds]\n",
    "    X_pos_p = np.zeros((len(pos_inds), len(all_elecs_array)))\n",
    "    X_pos_p[:, elec_inds] = X\n",
    "    X_pos.append(X_pos_p)\n",
    "    y_pos.append(y)\n",
    "    trials_pos.append(trials)\n",
    "\n",
    "    y = triplet_probs[neg_inds]\n",
    "    X = amplitudes[neg_inds]\n",
    "    trials = triplet_trials[neg_inds]\n",
    "    X_neg_p = np.zeros((len(neg_inds), len(all_elecs_array)))\n",
    "    X_neg_p[:, elec_inds] = X\n",
    "    X_neg.append(X_neg_p)\n",
    "    y_neg.append(y)\n",
    "    trials_neg.append(trials)\n",
    "\n",
    "    print(all_elecs_array)\n",
    "    print(triplet_elecs)\n",
    "    print(elec_inds)\n",
    "    print(amplitudes[neg_inds])\n",
    "    print(X_neg_p)\n",
    "    print(y)\n",
    "    print(trials)"
   ]
  },
  {
   "cell_type": "code",
   "execution_count": 42,
   "metadata": {},
   "outputs": [],
   "source": [
    "all_amps_neg = np.vstack(X_neg)\n",
    "all_probs_neg = np.hstack(y_neg)\n",
    "trials_neg = np.hstack(trials_neg)"
   ]
  },
  {
   "cell_type": "code",
   "execution_count": 43,
   "metadata": {},
   "outputs": [],
   "source": [
    "all_amps_pos = np.vstack(X_pos)\n",
    "all_probs_pos = np.hstack(y_pos)\n",
    "trials_pos = np.hstack(trials_pos)"
   ]
  },
  {
   "cell_type": "code",
   "execution_count": 44,
   "metadata": {},
   "outputs": [
    {
     "data": {
      "text/plain": [
       "array([[-0.65625, -0.09375, -0.09375],\n",
       "       [-0.46875, -0.09375, -0.28125],\n",
       "       [-0.46875, -0.09375, -0.46875],\n",
       "       ...,\n",
       "       [-0.28125, -1.78125, -1.78125],\n",
       "       [-0.46875, -1.78125, -1.78125],\n",
       "       [-1.59375, -1.78125, -1.78125]])"
      ]
     },
     "execution_count": 44,
     "metadata": {},
     "output_type": "execute_result"
    }
   ],
   "source": [
    "all_amps_neg"
   ]
  },
  {
   "cell_type": "code",
   "execution_count": 45,
   "metadata": {},
   "outputs": [
    {
     "data": {
      "text/plain": [
       "((326, 3), (326,), (326,))"
      ]
     },
     "execution_count": 45,
     "metadata": {},
     "output_type": "execute_result"
    }
   ],
   "source": [
    "all_amps_pos.shape, all_probs_pos.shape, trials_pos.shape"
   ]
  },
  {
   "cell_type": "code",
   "execution_count": 46,
   "metadata": {},
   "outputs": [],
   "source": [
    "train_amps_pos, test_amps_pos, train_probs_pos, test_probs_pos, train_trials_pos, _ = train_test_split(all_amps_pos, all_probs_pos, trials_pos, test_size=0.2)\n",
    "train_amps_neg, test_amps_neg, train_probs_neg, test_probs_neg, train_trials_neg, _ = train_test_split(all_amps_neg, all_probs_neg, trials_neg, test_size=0.2)"
   ]
  },
  {
   "cell_type": "code",
   "execution_count": 57,
   "metadata": {},
   "outputs": [],
   "source": [
    "degree = 6\n",
    "multi_X, multi_y = fitting.convertToBinaryClassifier(\n",
    "    train_probs_neg, train_trials_neg, train_amps_neg, degree\n",
    ")"
   ]
  },
  {
   "cell_type": "code",
   "execution_count": 58,
   "metadata": {},
   "outputs": [
    {
     "data": {
      "text/plain": [
       "((5997, 84), (5997,))"
      ]
     },
     "execution_count": 58,
     "metadata": {},
     "output_type": "execute_result"
    }
   ],
   "source": [
    "multi_X.shape, multi_y.shape"
   ]
  },
  {
   "cell_type": "code",
   "execution_count": 59,
   "metadata": {},
   "outputs": [],
   "source": [
    "mu = np.concatenate((np.array([1]), np.zeros(multi_X.shape[-1] - 1)))\n",
    "multi_results = minimize(fitting.negLL, x0=mu, args=(multi_X, multi_y, False, \"none\"))\n",
    "multi_weights = multi_results.x"
   ]
  },
  {
   "cell_type": "code",
   "execution_count": 60,
   "metadata": {},
   "outputs": [
    {
     "data": {
      "text/plain": [
       "array([-1.04801932e+02, -3.94406120e+02, -1.39214084e+02, -6.62347698e+01,\n",
       "       -5.21154236e+02, -5.03209941e+02, -3.01512871e+02, -4.87712182e+00,\n",
       "       -1.39520469e+02,  1.83743833e+02, -3.80574806e+02, -6.45079608e+02,\n",
       "       -1.76885740e+02, -3.68290411e+01, -5.26300133e+02,  8.60429702e+00,\n",
       "        5.41630950e+01, -4.09023018e+01,  8.69628062e+01,  3.30547421e+02,\n",
       "       -1.64607064e+02, -3.81211135e+02, -6.31548776e+01, -2.19722491e+02,\n",
       "       -3.04536391e+02,  1.08505622e+02,  1.98076059e+02, -1.54729075e+02,\n",
       "       -2.27507088e+02,  6.53353479e+01,  1.36793446e+01, -6.76255229e+00,\n",
       "        5.26130316e+01,  1.66787616e+02,  2.37445132e+02, -3.35671484e+01,\n",
       "       -1.38084159e+02, -1.14852729e+01, -7.21443872e+01, -7.44183558e+01,\n",
       "        3.11410316e+01, -2.40980919e+01, -9.96201252e+01, -3.63044724e+01,\n",
       "        6.72437850e+01,  1.04937741e+02,  4.50975161e+01, -9.67068929e+01,\n",
       "       -4.59340518e+01,  2.10641165e+01, -5.85445399e+00, -1.65019274e+01,\n",
       "        1.62947770e+01,  5.49450268e+01,  7.73579806e+01,  8.25321256e+01,\n",
       "       -1.41578844e+00, -2.34506629e+01,  1.51941415e+00, -6.83045604e+00,\n",
       "       -1.03761992e+01, -1.43814491e+00, -8.45478352e+00, -1.04606241e+01,\n",
       "        2.04111709e-01,  1.28055059e+01,  3.04947092e+00, -6.26848409e+00,\n",
       "       -1.67546157e+01,  4.84805599e+00,  6.37920154e+00,  1.60676802e+01,\n",
       "        1.85775527e+01, -7.50369792e+00, -1.25433294e+01, -6.13693605e+00,\n",
       "        3.61363640e+00, -1.87781379e+00, -5.70824056e+00, -9.19255923e-01,\n",
       "        1.00169567e+01,  9.73579616e+00,  1.28336718e+01,  1.12045012e+01])"
      ]
     },
     "execution_count": 60,
     "metadata": {},
     "output_type": "execute_result"
    }
   ],
   "source": [
    "multi_weights"
   ]
  },
  {
   "cell_type": "code",
   "execution_count": 61,
   "metadata": {},
   "outputs": [
    {
     "data": {
      "text/plain": [
       "[<matplotlib.lines.Line2D at 0x7f8d7452a610>]"
      ]
     },
     "execution_count": 61,
     "metadata": {},
     "output_type": "execute_result"
    },
    {
     "data": {
      "image/png": "[encoded data removed]",
      "text/plain": [
       "<Figure size 432x288 with 1 Axes>"
      ]
     },
     "metadata": {
      "needs_background": "light"
     },
     "output_type": "display_data"
    }
   ],
   "source": [
    "poly = PolynomialFeatures(degree)\n",
    "test_X = poly.fit_transform(test_amps_neg)\n",
    "test_y = test_probs_neg\n",
    "\n",
    "train_X = poly.fit_transform(train_amps_neg)\n",
    "train_y = train_probs_neg\n",
    "\n",
    "plt.scatter(train_X @ multi_weights, train_y)\n",
    "plt.scatter(test_X @ multi_weights, test_y)\n",
    "sigmoid_x = np.linspace(-4, 4, 100)\n",
    "plt.plot(sigmoid_x, 1 / (1 + np.exp(-sigmoid_x)))"
   ]
  },
  {
   "cell_type": "code",
   "execution_count": 32,
   "metadata": {},
   "outputs": [],
   "source": [
    "degree = 3\n",
    "multi_X, multi_y = fitting.convertToBinaryClassifier(\n",
    "    train_probs_pos, train_trials_pos, train_amps_pos, degree\n",
    ")"
   ]
  },
  {
   "cell_type": "code",
   "execution_count": 33,
   "metadata": {},
   "outputs": [
    {
     "data": {
      "text/plain": [
       "((4978, 20), (4978,))"
      ]
     },
     "execution_count": 33,
     "metadata": {},
     "output_type": "execute_result"
    }
   ],
   "source": [
    "multi_X.shape, multi_y.shape"
   ]
  },
  {
   "cell_type": "code",
   "execution_count": 34,
   "metadata": {},
   "outputs": [],
   "source": [
    "mu = np.concatenate((np.array([1]), np.zeros(multi_X.shape[-1] - 1)))\n",
    "multi_results = minimize(fitting.negLL, x0=mu, args=(multi_X, multi_y, False, \"none\"))\n",
    "multi_weights = multi_results.x"
   ]
  },
  {
   "cell_type": "code",
   "execution_count": 35,
   "metadata": {},
   "outputs": [
    {
     "data": {
      "text/plain": [
       "array([-0.37155408,  0.49344965,  6.05179407, -4.50690078,  0.41363965,\n",
       "       -0.86563097,  0.06355543, -8.17457607,  1.4221996 ,  4.28221898,\n",
       "       -0.04512272, -1.13590195,  0.35615391,  1.69401603, -0.15363224,\n",
       "       -0.54155457,  2.31003924,  0.57859668, -0.84287754, -1.11514321])"
      ]
     },
     "execution_count": 35,
     "metadata": {},
     "output_type": "execute_result"
    }
   ],
   "source": [
    "multi_weights"
   ]
  },
  {
   "cell_type": "code",
   "execution_count": 36,
   "metadata": {},
   "outputs": [
    {
     "data": {
      "text/plain": [
       "[<matplotlib.lines.Line2D at 0x7f8d746755e0>]"
      ]
     },
     "execution_count": 36,
     "metadata": {},
     "output_type": "execute_result"
    },
    {
     "data": {
      "image/png": "[encoded data removed]",
      "text/plain": [
       "<Figure size 432x288 with 1 Axes>"
      ]
     },
     "metadata": {
      "needs_background": "light"
     },
     "output_type": "display_data"
    }
   ],
   "source": [
    "poly = PolynomialFeatures(degree)\n",
    "test_X = poly.fit_transform(test_amps_pos)\n",
    "test_y = test_probs_pos\n",
    "\n",
    "train_X = poly.fit_transform(train_amps_pos)\n",
    "train_y = train_probs_pos\n",
    "\n",
    "plt.scatter(train_X @ multi_weights, train_y)\n",
    "plt.scatter(test_X @ multi_weights, test_y)\n",
    "sigmoid_x = np.linspace(-4, 4, 100)\n",
    "plt.plot(sigmoid_x, 1 / (1 + np.exp(-sigmoid_x)))"
   ]
  },
  {
   "cell_type": "code",
   "execution_count": null,
   "metadata": {},
   "outputs": [],
   "source": []
  }
 ],
 "metadata": {
  "kernelspec": {
   "display_name": "Python 3 (ipykernel)",
   "language": "python",
   "name": "python3"
  },
  "language_info": {
   "codemirror_mode": {
    "name": "ipython",
    "version": 3
   },
   "file_extension": ".py",
   "mimetype": "text/x-python",
   "name": "python",
   "nbconvert_exporter": "python",
   "pygments_lexer": "ipython3",
   "version": "3.9.2"
  }
 },
 "nbformat": 4,
 "nbformat_minor": 2
}
