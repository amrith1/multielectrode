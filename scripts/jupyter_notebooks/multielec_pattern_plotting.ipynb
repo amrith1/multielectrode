{
 "cells": [
  {
   "cell_type": "code",
   "execution_count": 1,
   "metadata": {},
   "outputs": [],
   "source": [
    "import numpy as np\n",
    "import scipy as sp\n",
    "import matplotlib.pyplot as plt\n",
    "import visionloader as vl\n",
    "import os\n",
    "import electrode_map as elcmp\n",
    "from scipy.io import loadmat\n",
    "import src.multielec_utils as mutils\n",
    "\n",
    "%load_ext autoreload\n",
    "%autoreload 2"
   ]
  },
  {
   "cell_type": "code",
   "execution_count": 2,
   "metadata": {},
   "outputs": [],
   "source": [
    "datapath = \"/Volumes/Analysis/2021-05-27-4/data001\"\n",
    "datarun = \"data001\"\n",
    "vcd = vl.load_vision_data(\n",
    "    datapath,\n",
    "    datarun,\n",
    "    include_neurons=True,\n",
    "    include_ei=True,\n",
    "    include_params=True,\n",
    "    include_noise=True,\n",
    ")"
   ]
  },
  {
   "cell_type": "code",
   "execution_count": 20,
   "metadata": {},
   "outputs": [],
   "source": [
    "p = 90\n",
    "electrical_path = \"/Volumes/Analysis/2021-05-27-4/data003/\"\n",
    "\n",
    "stim_electrodes = mutils.get_stim_elecs_newlv(electrical_path, p)"
   ]
  },
  {
   "cell_type": "code",
   "execution_count": 21,
   "metadata": {},
   "outputs": [],
   "source": [
    "channel_noise = vcd.channel_noise"
   ]
  },
  {
   "cell_type": "code",
   "execution_count": 22,
   "metadata": {},
   "outputs": [
    {
     "data": {
      "text/plain": [
       "(array([  7.,   0.,   0.,   0.,   3., 204., 298.,   6.,   0.,   1.]),\n",
       " array([0.        , 0.49903698, 0.99807395, 1.49711093, 1.9961479 ,\n",
       "        2.49518488, 2.99422185, 3.49325883, 3.9922958 , 4.49133278,\n",
       "        4.99036975]),\n",
       " <BarContainer object of 10 artists>)"
      ]
     },
     "execution_count": 22,
     "metadata": {},
     "output_type": "execute_result"
    },
    {
     "data": {
      "image/png": "[encoded data removed]",
      "text/plain": [
       "<Figure size 432x288 with 1 Axes>"
      ]
     },
     "metadata": {
      "needs_background": "light"
     },
     "output_type": "display_data"
    }
   ],
   "source": [
    "plt.hist(channel_noise)"
   ]
  },
  {
   "cell_type": "code",
   "execution_count": 23,
   "metadata": {},
   "outputs": [],
   "source": [
    "cellids = sorted(vcd.get_cell_ids())\n",
    "coords = vcd.get_electrode_map()"
   ]
  },
  {
   "cell_type": "code",
   "execution_count": 24,
   "metadata": {},
   "outputs": [
    {
     "name": "stdout",
     "output_type": "stream",
     "text": [
      "36\n",
      "OFF parasol\n",
      "48\n",
      "ON parasol\n",
      "153\n",
      "OFF parasol\n",
      "227\n",
      "weak\n",
      "257\n",
      "ON midget\n",
      "259\n",
      "OFF parasol\n",
      "362\n",
      "ON midget\n",
      "427\n",
      "crap\n",
      "573\n",
      "weak\n",
      "577\n",
      "crap\n",
      "578\n",
      "crap\n",
      "586\n",
      "ON parasol\n",
      "591\n",
      "OFF midget\n",
      "695\n",
      "ON unsure\n",
      "710\n",
      "weak\n",
      "737\n",
      "ON unsure\n",
      "766\n",
      "ON midget\n",
      "826\n",
      "ON midget\n",
      "832\n",
      "crap\n",
      "916\n",
      "ON midget\n",
      "946\n",
      "weak\n",
      "977\n",
      "ON parasol\n",
      "1174\n",
      "OFF parasol\n",
      "1186\n",
      "ON midget\n",
      "1231\n",
      "weak\n",
      "1322\n",
      "ON parasol\n",
      "1323\n",
      "OFF parasol\n",
      "1337\n",
      "ON midget\n",
      "1366\n",
      "weak\n",
      "1383\n",
      "ON unsure\n",
      "1491\n",
      "crap\n",
      "1577\n",
      "weak\n",
      "1655\n",
      "OFF parasol\n",
      "1681\n",
      "OFF parasol\n",
      "1696\n",
      "ON midget\n",
      "1803\n",
      "ON midget\n",
      "1878\n",
      "OFF parasol\n",
      "1882\n",
      "OFF unsure\n",
      "1906\n",
      "crap\n",
      "1968\n",
      "ON unsure\n",
      "1981\n",
      "weak\n",
      "2011\n",
      "ON midget\n",
      "2012\n",
      "OFF parasol\n",
      "2089\n",
      "ON parasol\n",
      "2207\n",
      "ON midget\n",
      "2416\n",
      "ON midget\n",
      "2492\n",
      "ON midget\n",
      "2521\n",
      "ON midget\n",
      "2554\n",
      "crap\n",
      "2566\n",
      "ON midget\n",
      "2611\n",
      "crap\n",
      "2656\n",
      "ON unsure\n",
      "2673\n",
      "ON midget\n",
      "2701\n",
      "ON midget\n",
      "2762\n",
      "ON unsure\n",
      "2764\n",
      "OFF parasol\n",
      "2783\n",
      "OFF parasol\n",
      "2825\n",
      "weak\n",
      "2944\n",
      "ON parasol\n",
      "3031\n",
      "ON midget\n",
      "3061\n",
      "ON parasol\n",
      "3198\n",
      "off array\n",
      "3212\n",
      "OFF parasol\n",
      "3331\n",
      "ON midget\n",
      "3352\n",
      "OFF parasol\n",
      "3378\n",
      "crap\n",
      "3379\n",
      "OFF parasol\n",
      "3411\n",
      "crap\n",
      "3421\n",
      "ON midget\n",
      "3527\n",
      "weak\n",
      "3528\n",
      "crap\n",
      "3571\n",
      "weak\n",
      "3632\n",
      "crap\n",
      "3637\n",
      "crap\n",
      "3676\n",
      "ON unsure\n",
      "3711\n",
      "OFF parasol\n",
      "3766\n",
      "ON midget\n",
      "3811\n",
      "ON midget\n",
      "3813\n",
      "ON parasol\n",
      "3827\n",
      "ON midget\n",
      "3828\n",
      "OFF parasol\n",
      "3953\n",
      "OFF midget\n",
      "3961\n",
      "ON midget\n",
      "4021\n",
      "ON midget\n",
      "4056\n",
      "OFF parasol\n",
      "4083\n",
      "ON parasol\n",
      "4096\n",
      "crap\n",
      "4128\n",
      "ON parasol\n",
      "4203\n",
      "OFF parasol\n",
      "4216\n",
      "OFF unsure\n",
      "4321\n",
      "ON midget\n",
      "4516\n",
      "ON midget\n",
      "4517\n",
      "crap\n",
      "4591\n",
      "weak\n",
      "4594\n",
      "OFF parasol\n",
      "4638\n",
      "ON parasol\n",
      "4681\n",
      "off array\n",
      "4682\n",
      "ON midget\n",
      "4714\n",
      "weak\n",
      "4742\n",
      "off array\n",
      "4786\n",
      "crap\n",
      "4823\n",
      "OFF parasol\n",
      "4951\n",
      "ON midget\n",
      "4981\n",
      "ON midget\n",
      "4997\n",
      "ON midget\n",
      "5027\n",
      "ON unsure\n",
      "5028\n",
      "ON unsure\n",
      "5091\n",
      "weak\n",
      "5132\n",
      "ON unsure\n",
      "5133\n",
      "ON parasol\n",
      "5162\n",
      "ON midget\n",
      "5236\n",
      "ON midget\n",
      "5253\n",
      "OFF parasol\n",
      "5283\n",
      "ON midget\n",
      "5315\n",
      "OFF midget\n",
      "5498\n",
      "crap\n",
      "5642\n",
      "ON midget\n",
      "5671\n",
      "OFF parasol\n",
      "5672\n",
      "OFF parasol\n",
      "5733\n",
      "crap\n",
      "5779\n",
      "ON parasol\n",
      "5780\n",
      "duplicates\n",
      "5782\n",
      "duplicates\n",
      "5854\n",
      "OFF parasol\n",
      "5867\n",
      "ON unsure\n",
      "5868\n",
      "ON midget\n",
      "5885\n",
      "weak\n",
      "5911\n",
      "ON midget\n",
      "5989\n",
      "OFF unsure\n",
      "6018\n",
      "crap\n",
      "6048\n",
      "ON midget\n",
      "6049\n",
      "crap\n",
      "6080\n",
      "crap\n",
      "6106\n",
      "ON midget\n",
      "6110\n",
      "ON parasol\n",
      "6167\n",
      "OFF parasol\n",
      "6197\n",
      "ON midget\n",
      "6258\n",
      "ON parasol\n",
      "6347\n",
      "off array\n",
      "6426\n",
      "ON midget\n",
      "6512\n",
      "ON parasol\n",
      "6586\n",
      "off array\n",
      "6587\n",
      "ON midget\n",
      "6767\n",
      "ON unsure\n",
      "6829\n",
      "ON parasol\n",
      "6917\n",
      "ON midget\n",
      "6946\n",
      "OFF parasol\n",
      "6949\n",
      "ON unsure\n",
      "6978\n",
      "crap\n",
      "7037\n",
      "ON parasol\n",
      "7054\n",
      "ON midget\n",
      "7087\n",
      "OFF parasol\n",
      "7113\n",
      "crap\n",
      "7127\n",
      "ON parasol\n",
      "7142\n",
      "OFF parasol\n",
      "7233\n",
      "weak\n",
      "7355\n",
      "OFF parasol\n",
      "7475\n",
      "ON midget\n",
      "7487\n",
      "ON midget\n",
      "7640\n",
      "crap\n",
      "7643\n",
      "crap\n",
      "7651\n",
      "weak\n",
      "7668\n",
      "off array\n",
      "7756\n",
      "badEIs\n",
      "7757\n",
      "badEIs\n"
     ]
    }
   ],
   "source": [
    "for cell in cellids:\n",
    "    print(cell)\n",
    "    print(vcd.get_cell_type_for_cell(cell))"
   ]
  },
  {
   "cell_type": "code",
   "execution_count": 25,
   "metadata": {},
   "outputs": [
    {
     "data": {
      "text/plain": [
       "165"
      ]
     },
     "execution_count": 25,
     "metadata": {},
     "output_type": "execute_result"
    }
   ],
   "source": [
    "len(cellids)"
   ]
  },
  {
   "cell_type": "code",
   "execution_count": 26,
   "metadata": {},
   "outputs": [],
   "source": [
    "thr_factor = 4"
   ]
  },
  {
   "cell_type": "code",
   "execution_count": 34,
   "metadata": {},
   "outputs": [
    {
     "name": "stdout",
     "output_type": "stream",
     "text": [
      "586\n",
      "ON parasol\n",
      "7037\n",
      "ON parasol\n",
      "7054\n",
      "ON midget\n",
      "7355\n",
      "OFF parasol\n"
     ]
    }
   ],
   "source": [
    "cells_of_interest = []\n",
    "cell_types_of_interest = []\n",
    "\n",
    "for cell in cellids:\n",
    "    good_inds, EI = mutils.get_collapsed_ei_thr(vcd, cell, thr_factor)\n",
    "    good_elecs = good_inds + 1\n",
    "    if np.any(np.in1d(stim_electrodes, good_elecs)):\n",
    "        cell_type = vcd.get_cell_type_for_cell(cell)\n",
    "        if \"parasol\" in cell_type.lower() or 'midget' in cell_type.lower():\n",
    "            print(cell)\n",
    "            print(vcd.get_cell_type_for_cell(cell))\n",
    "            cells_of_interest.append(cell)\n",
    "            cell_types_of_interest.append(cell_type)\n",
    "\n",
    "cells_of_interest = np.array(cells_of_interest)"
   ]
  },
  {
   "cell_type": "code",
   "execution_count": 28,
   "metadata": {
    "scrolled": false
   },
   "outputs": [
    {
     "data": {
      "image/png": "[encoded data removed]",
      "text/plain": [
       "<Figure size 936x936 with 1 Axes>"
      ]
     },
     "metadata": {
      "needs_background": "light"
     },
     "output_type": "display_data"
    }
   ],
   "source": [
    "fig, ax = plt.subplots(figsize=(13, 13))\n",
    "ax.scatter(coords[:, 0], coords[:, 1], s=1, c=\"k\")\n",
    "\n",
    "for j in range(len(cells_of_interest)):\n",
    "    #     if True:\n",
    "    #     if cells_of_interest[j] == 212 or cells_of_interest[j] == 130 or cells_of_interest[j] == 143:\n",
    "    good_inds, EI = mutils.get_collapsed_ei_thr(vcd, cells_of_interest[j], thr_factor)\n",
    "\n",
    "    ax.scatter(\n",
    "        coords[good_inds, 0],\n",
    "        coords[good_inds, 1],\n",
    "        s=EI[good_inds] * 5,\n",
    "        label=cell_types_of_interest[j] + \" \" + str(cells_of_interest[j]),\n",
    "        alpha=0.5,\n",
    "    )\n",
    "    for i, txt in enumerate(good_inds):\n",
    "        ax.annotate(txt + 1, (coords[good_inds[i], 0], coords[good_inds[i], 1]))\n",
    "\n",
    "# ax.axis('off')\n",
    "ax.legend(fontsize=18, loc=\"upper right\")\n",
    "plt.show()"
   ]
  },
  {
   "cell_type": "code",
   "execution_count": 29,
   "metadata": {},
   "outputs": [
    {
     "data": {
      "text/plain": [
       "array([471, 470, 480], dtype=uint16)"
      ]
     },
     "execution_count": 29,
     "metadata": {},
     "output_type": "execute_result"
    }
   ],
   "source": [
    "stim_electrodes"
   ]
  },
  {
   "cell_type": "code",
   "execution_count": null,
   "metadata": {},
   "outputs": [],
   "source": []
  },
  {
   "cell_type": "code",
   "execution_count": null,
   "metadata": {},
   "outputs": [],
   "source": []
  },
  {
   "cell_type": "code",
   "execution_count": null,
   "metadata": {},
   "outputs": [],
   "source": []
  },
  {
   "cell_type": "code",
   "execution_count": null,
   "metadata": {},
   "outputs": [],
   "source": []
  },
  {
   "cell_type": "code",
   "execution_count": null,
   "metadata": {},
   "outputs": [],
   "source": []
  },
  {
   "cell_type": "code",
   "execution_count": null,
   "metadata": {},
   "outputs": [],
   "source": []
  },
  {
   "cell_type": "code",
   "execution_count": null,
   "metadata": {},
   "outputs": [],
   "source": []
  },
  {
   "cell_type": "code",
   "execution_count": null,
   "metadata": {},
   "outputs": [],
   "source": []
  },
  {
   "cell_type": "code",
   "execution_count": null,
   "metadata": {},
   "outputs": [],
   "source": []
  },
  {
   "cell_type": "code",
   "execution_count": null,
   "metadata": {},
   "outputs": [],
   "source": []
  },
  {
   "cell_type": "code",
   "execution_count": null,
   "metadata": {},
   "outputs": [],
   "source": []
  },
  {
   "cell_type": "code",
   "execution_count": null,
   "metadata": {},
   "outputs": [],
   "source": []
  },
  {
   "cell_type": "code",
   "execution_count": null,
   "metadata": {},
   "outputs": [],
   "source": []
  }
 ],
 "metadata": {
  "kernelspec": {
   "display_name": "Python 3.9.2 ('pvasi39')",
   "language": "python",
   "name": "python392jvsc74a57bd06eaea2c7032a5f07ed16c090fcaf8a1046abeb583cd32fbf6db2cca8d3e0341c"
  },
  "language_info": {
   "codemirror_mode": {
    "name": "ipython",
    "version": 3
   },
   "file_extension": ".py",
   "mimetype": "text/x-python",
   "name": "python",
   "nbconvert_exporter": "python",
   "pygments_lexer": "ipython3",
   "version": "3.9.2"
  }
 },
 "nbformat": 4,
 "nbformat_minor": 4
}
