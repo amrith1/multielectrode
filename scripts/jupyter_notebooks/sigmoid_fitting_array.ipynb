{
 "cells": [
  {
   "cell_type": "code",
   "execution_count": null,
   "metadata": {},
   "outputs": [],
   "source": [
    "import numpy as np\n",
    "import matplotlib.pyplot as plt\n",
    "import src.fitting as fitting\n",
    "import src.multielec_utils as mutils\n",
    "from scipy.io import savemat, loadmat\n",
    "import multiprocessing as mp\n",
    "\n",
    "%matplotlib inline\n",
    "%load_ext autoreload\n",
    "%autoreload 2"
   ]
  },
  {
   "cell_type": "code",
   "execution_count": null,
   "metadata": {},
   "outputs": [],
   "source": [
    "GSORT_BASE = \"/Volumes/Scratch/Users/bhofflic/gsort\"\n",
    "ANALYSIS_BASE = \"/Volumes/Scratch/Users/bhofflic/Preprocessed\"\n",
    "dataset = \"2022-11-04-2\"\n",
    "wnoise = \"data003\"\n",
    "blanked_probs = 12\n",
    "\n",
    "estim_neg = \"data004\"\n",
    "\n",
    "outpath = os.path.join(GSORT_BASE, dataset, estim_neg, wnoise)\n",
    "electrical_path = os.path.join(ANALYSIS_BASE, dataset, estim_neg)\n",
    "parameters = loadmat(os.path.join(outpath, 'parameters.mat'))\n",
    "\n",
    "cells = parameters['cells'].flatten()\n",
    "num_cells = len(cells)\n",
    "num_patterns = max(parameters['patterns'].flatten())\n",
    "num_movies = parameters['movies'].flatten()[0]\n",
    "\n",
    "all_probs_neg = np.array(np.memmap(os.path.join(outpath, 'init_probs.dat'),mode='r',shape=(num_cells, num_patterns, num_movies), dtype='float32'))\n",
    "trials_neg = np.array(np.memmap(os.path.join(outpath, 'trial.dat'),mode='r',shape=(num_patterns, num_movies), dtype='int16'), dtype=int)\n",
    "amps_neg = np.array([mutils.get_stim_amps_newlv(electrical_path, 1).reshape(-1, 1)] * len(trials_neg))\n",
    "\n",
    "# Processing data below: do other stuff if your pipeline is different\n",
    "all_probs_neg[:, :, :blanked_probs] = np.zeros(all_probs_neg[:, :, :blanked_probs].shape)\n",
    "\n",
    "for i in range(len(all_probs_neg)):\n",
    "    for j in range(len(all_probs_neg[i])):\n",
    "        all_probs_neg[i][j] = fitting.disambiguate_sigmoid(all_probs_neg[i][j], spont_limit=0.2, noise_limit=0.1)"
   ]
  },
  {
   "cell_type": "code",
   "execution_count": null,
   "metadata": {},
   "outputs": [],
   "source": [
    "ms = [1]\n",
    "\n",
    "w_inits_array = np.zeros((all_probs_neg.shape[0], all_probs_neg.shape[1]), dtype=object)\n",
    "for i in range(len(w_inits_array)):\n",
    "    for j in range(len(w_inits_array[i])):\n",
    "        w_inits = []\n",
    "\n",
    "        for m in ms:\n",
    "            w_init = np.array(np.random.normal(size=(m, amps_neg[j].shape[1]+1)))\n",
    "            w_inits.append(w_init)\n",
    "\n",
    "        w_inits_array[i][j] = w_inits"
   ]
  },
  {
   "cell_type": "code",
   "execution_count": null,
   "metadata": {},
   "outputs": [],
   "source": [
    "input_list = fitting.generate_input_list(all_probs_neg, amps_neg, trials_neg, w_inits_array)\n",
    "\n",
    "pool = mp.Pool(processes=24)\n",
    "results = pool.starmap_async(fitting.fit_surface, input_list)\n",
    "mp_output = results.get()\n",
    "pool.close()"
   ]
  },
  {
   "cell_type": "code",
   "execution_count": null,
   "metadata": {},
   "outputs": [],
   "source": [
    "mp_output_array = np.array(mp_output, dtype=object)\n",
    "params_true = mp_output_array[:, 0].reshape(all_probs_neg.shape[0], all_probs_neg.shape[1])\n",
    "probs_true_tmp = mp_output_array[:, 1].reshape(all_probs_neg.shape[0], all_probs_neg.shape[1])\n",
    "inits = mp_output_array[:, 2].reshape(all_probs_neg.shape[0], all_probs_neg.shape[1])\n",
    "\n",
    "probs_true = np.zeros(all_probs_neg.shape)\n",
    "for i in range(len(all_probs_neg)):\n",
    "    for j in range(len(all_probs_neg[i])):\n",
    "        probs_true[i][j] = probs_true_tmp[i][j]"
   ]
  },
  {
   "cell_type": "code",
   "execution_count": null,
   "metadata": {},
   "outputs": [],
   "source": [
    "# CHECK DATASET IF NEEDED\n",
    "\n",
    "for i in range(len(all_probs_neg)):\n",
    "    for j in range(len(all_probs_neg[i])):\n",
    "        if ~np.all(params_true[i][j][:, 0] == -np.inf):\n",
    "\n",
    "            print(params_true[i][j])\n",
    "            \n",
    "            plt.figure(0)\n",
    "            plt.xlim(-4.2, 0,1)\n",
    "            plt.ylim(-0.1, 1.1)\n",
    "            plt.scatter(amps_neg[j], all_probs_neg[i][j])\n",
    "            plt.plot(amps_neg[j], probs_true[i][j])\n",
    "            plt.show()\n",
    "            input()"
   ]
  },
  {
   "cell_type": "code",
   "execution_count": null,
   "metadata": {},
   "outputs": [],
   "source": []
  }
 ],
 "metadata": {
  "kernelspec": {
   "display_name": "pvasi39",
   "language": "python",
   "name": "python3"
  },
  "language_info": {
   "codemirror_mode": {
    "name": "ipython",
    "version": 3
   },
   "file_extension": ".py",
   "mimetype": "text/x-python",
   "name": "python",
   "nbconvert_exporter": "python",
   "pygments_lexer": "ipython3",
   "version": "3.9.7 (default, Sep 16 2021, 13:09:58) \n[GCC 7.5.0]"
  },
  "orig_nbformat": 4,
  "vscode": {
   "interpreter": {
    "hash": "7a49c36f17b22be80bca1a531e420dccca9dd908a69799277bc977a4a0d3e51d"
   }
  }
 },
 "nbformat": 4,
 "nbformat_minor": 2
}
