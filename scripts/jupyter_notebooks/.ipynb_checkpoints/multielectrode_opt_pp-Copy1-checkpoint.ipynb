{
 "cells": [
  {
   "cell_type": "code",
   "execution_count": 1,
   "metadata": {},
   "outputs": [],
   "source": [
    "import numpy as np\n",
    "import pickle\n",
    "import matplotlib.pyplot as plt\n",
    "from scipy.io import loadmat\n",
    "import visionloader as vl\n",
    "from sklearn.preprocessing import PolynomialFeatures, StandardScaler\n",
    "from sklearn.cluster import KMeans, SpectralClustering\n",
    "import os\n",
    "import src.fitting as fitting\n",
    "import src.multielec_utils as mutils\n",
    "from mpl_toolkits.mplot3d import Axes3D\n",
    "import cvxpy as cp\n",
    "from scipy.optimize import minimize\n",
    "import statsmodels.api as sm\n",
    "\n",
    "%load_ext autoreload\n",
    "%autoreload 2\n",
    "%matplotlib notebook"
   ]
  },
  {
   "cell_type": "markdown",
   "metadata": {},
   "source": [
    "# Load in triplet stim elecResps and amplitudes"
   ]
  },
  {
   "cell_type": "code",
   "execution_count": 2,
   "metadata": {},
   "outputs": [],
   "source": [
    "ANALYSIS_BASE = \"/Volumes/Analysis\"\n",
    "gsort_path = \"/Volumes/Scratch/Users/praful/triplet_gsort_v2_30um_raphe-affinity_cosine\""
   ]
  },
  {
   "cell_type": "code",
   "execution_count": 3,
   "metadata": {},
   "outputs": [],
   "source": [
    "dataset = \"2020-10-18-0\"\n",
    "estim = \"data003/data003-all\"\n",
    "electrical_path = os.path.join(ANALYSIS_BASE, dataset, estim)"
   ]
  },
  {
   "cell_type": "code",
   "execution_count": 4,
   "metadata": {},
   "outputs": [],
   "source": [
    "wnoise = \"kilosort_data000/data000\"\n",
    "vis_datapath = os.path.join(ANALYSIS_BASE, dataset, wnoise)\n",
    "vis_datarun = wnoise.split('/')[-1]\n",
    "vcd = vl.load_vision_data(\n",
    "    vis_datapath,\n",
    "    vis_datarun,\n",
    "    include_neurons=True,\n",
    "    include_ei=True,\n",
    "    include_params=True,\n",
    "    include_noise=True,\n",
    ")\n",
    "\n",
    "coords = vcd.get_electrode_map()"
   ]
  },
  {
   "cell_type": "code",
   "execution_count": 5,
   "metadata": {},
   "outputs": [],
   "source": [
    "degree = 1\n",
    "l2_reg = 0.0\n",
    "clusters_t = 15\n",
    "clusters_nt = 15\n",
    "negll_thr = 0.94"
   ]
  },
  {
   "cell_type": "code",
   "execution_count": 6,
   "metadata": {},
   "outputs": [],
   "source": [
    "p = 2\n",
    "targets = np.array([12])\n",
    "nontargets = np.array([6, 11])\n",
    "\n",
    "p_thr = 2/19\n",
    "p_upper = 1\n",
    "random_state = 0"
   ]
  },
  {
   "cell_type": "code",
   "execution_count": null,
   "metadata": {},
   "outputs": [],
   "source": [
    "def getWeights(p, n, degree, l2_reg, n_clusters, nll_thr, points_per_cluster=50, selec_vec=np.zeros(3), show_clusters=False):\n",
    "    poly = PolynomialFeatures(degree)\n",
    "    filepath = os.path.join(gsort_path, \n",
    "                            dataset, estim, wnoise, \"p\" + str(p))\n",
    "\n",
    "    amplitudes = mutils.get_stim_amps_newlv(electrical_path, p)\n",
    "    num_pts = len(amplitudes)\n",
    "\n",
    "    triplet_probs = np.zeros(num_pts)\n",
    "    trials = np.zeros(num_pts, dtype=int)\n",
    "    for k in range(num_pts):\n",
    "        with open(os.path.join(filepath, \"gsort_tri_v2_n\" + str(n) + \"_p\" + str(p) + \"_k\" + str(k) + \".pkl\"), \"rb\") as f:\n",
    "            prob_dict = pickle.load(f)\n",
    "            triplet_probs[k] = prob_dict[\"cosine_prob\"][0]\n",
    "            trials[k] = prob_dict[\"num_trials\"]\n",
    "\n",
    "    good_inds = np.where((triplet_probs > p_thr) & (triplet_probs < p_upper))[0]\n",
    "\n",
    "    y = triplet_probs[good_inds]\n",
    "    X = amplitudes[good_inds]\n",
    "\n",
    "    fig = plt.figure()\n",
    "    fig.clear()\n",
    "    ax = Axes3D(fig)\n",
    "    plt.xlabel(r'$I_1$')\n",
    "    plt.ylabel(r'$I_2$')\n",
    "    ax.set_zlabel(r'$I_3$')\n",
    "\n",
    "    scat = ax.scatter(amplitudes[:, 0][good_inds], \n",
    "                amplitudes[:, 1][good_inds],\n",
    "                amplitudes[:, 2][good_inds], marker='o', s=20, c=triplet_probs[good_inds], alpha=0.8)\n",
    "    if np.any(selec_vec != 0):\n",
    "        ax.scatter(selec_vec[0], selec_vec[1], selec_vec[2], c='tab:red', marker='*', s=100)\n",
    "\n",
    "    clb = plt.colorbar(scat)\n",
    "    plt.show()\n",
    "\n",
    "    clustering = SpectralClustering(n_clusters=n_clusters, \n",
    "                                    assign_labels='discretize',\n",
    "                                    affinity='nearest_neighbors', \n",
    "                                    random_state=random_state).fit(X)\n",
    "\n",
    "    pp_weights = []\n",
    "    for i in range(n_clusters):\n",
    "        inds = np.where(clustering.labels_ == i)[0]\n",
    "\n",
    "        if show_clusters:\n",
    "            fig = plt.figure()\n",
    "            fig.clear()\n",
    "            ax = Axes3D(fig)\n",
    "            plt.xlabel(r'$I_1$')\n",
    "            plt.ylabel(r'$I_2$')\n",
    "            plt.xlim(-1.8, 1.8)\n",
    "            plt.ylim(-1.8, 1.8)\n",
    "            ax.set_zlim(-1.8, 1.8)\n",
    "            ax.set_zlabel(r'$I_3$')\n",
    "\n",
    "            scat = ax.scatter(X[inds, 0], \n",
    "                        X[inds, 1],\n",
    "                        X[inds, 2], marker='o', s=20, c=y[inds], alpha=0.8)\n",
    "\n",
    "            clb = plt.colorbar(scat)\n",
    "            plt.show()\n",
    "\n",
    "        X_cluster = X[inds]\n",
    "        y_cluster = y[inds]\n",
    "        trials_cluster = trials[good_inds][inds]\n",
    "        \n",
    "        X_bin, y_bin = fitting.convertToBinaryClassifier(y_cluster, trials_cluster, X_cluster)\n",
    "        \n",
    "        results = minimize(fitting.negLL, x0=np.array([-1, 1, 1, 1]), args=(X_bin, y_bin, False, 'none'))\n",
    "        print(results.x)\n",
    "\n",
    "        OLS_X = poly.fit_transform(X_cluster)\n",
    "        OLS_y = np.log(y_cluster / (1 - y_cluster))\n",
    "\n",
    "        OLS_w = (np.linalg.inv(l2_reg * np.eye(OLS_X.shape[-1]) + OLS_X.T @ OLS_X) @ OLS_X.T) @ OLS_y\n",
    "        print(OLS_w)\n",
    "        \n",
    "        nll_MLE = fitting.negLL(results.x, X_bin, y_bin, False, 'none')\n",
    "        nll_OLS = fitting.negLL(OLS_w, X_bin, y_bin, False, 'none')\n",
    "        \n",
    "        print(nll_MLE)\n",
    "        print(nll_OLS)\n",
    "        \n",
    "        if show_clusters:\n",
    "            plt.figure()\n",
    "            plt.scatter(fitting.fsigmoid(sm.add_constant(X_cluster), OLS_w), y_cluster)\n",
    "            plt.scatter(fitting.fsigmoid(sm.add_constant(X_cluster), results.x), y_cluster)\n",
    "            plt.plot(np.linspace(0, 1, 100), np.linspace(0, 1, 100), c='k', linestyle='--')\n",
    "\n",
    "#         if nll_OLS < nll_thr and OLS_w[0] < 0:\n",
    "#             pp_weights.append(OLS_w)\n",
    "        if nll_MLE < nll_thr and results.x[0] < 0 and len(inds) > points_per_cluster:\n",
    "            pp_weights.append(results.x)\n",
    "\n",
    "    return np.array(pp_weights)"
   ]
  },
  {
   "cell_type": "code",
   "execution_count": null,
   "metadata": {
    "scrolled": true
   },
   "outputs": [],
   "source": [
    "nt_weights = []\n",
    "for nt in nontargets:\n",
    "    print(vcd.get_cell_type_for_cell(nt))\n",
    "    nt_weights.append(getWeights(p, nt, degree, l2_reg, clusters_nt, negll_thr, show_clusters=True))\n",
    "\n",
    "nt_weights = np.vstack((nt_weights))"
   ]
  },
  {
   "cell_type": "code",
   "execution_count": null,
   "metadata": {},
   "outputs": [],
   "source": [
    "nt_weights"
   ]
  },
  {
   "cell_type": "code",
   "execution_count": null,
   "metadata": {
    "scrolled": true
   },
   "outputs": [],
   "source": [
    "t_weights = []\n",
    "for t in targets:\n",
    "    print(vcd.get_cell_type_for_cell(t))\n",
    "    t_weights.append(getWeights(p, t, degree, l2_reg, clusters_t, negll_thr, show_clusters=True))\n",
    "\n",
    "t_weights = np.vstack((t_weights))"
   ]
  },
  {
   "cell_type": "code",
   "execution_count": null,
   "metadata": {},
   "outputs": [],
   "source": [
    "t_weights"
   ]
  },
  {
   "cell_type": "code",
   "execution_count": null,
   "metadata": {},
   "outputs": [],
   "source": [
    "def compute_pt(T):\n",
    "    return 1/(np.exp(T)+1)\n",
    "\n",
    "def compute_pn(T):\n",
    "    return np.exp(T)/(np.exp(T)+1)"
   ]
  },
  {
   "cell_type": "code",
   "execution_count": null,
   "metadata": {},
   "outputs": [],
   "source": [
    "I_max = 1.78125\n",
    "selec_vals = np.zeros(len(t_weights))\n",
    "x_vals = np.zeros((len(t_weights), 3))\n",
    "for i in range(len(t_weights)):\n",
    "    print(i)\n",
    "    T_t = cp.Variable(1)\n",
    "    T_n = cp.Variable(1)\n",
    "    x = cp.Variable(3)\n",
    "\n",
    "    constraints = [\n",
    "        -t_weights[i, 0] - t_weights[i,1:] @ x  <= T_t,\n",
    "        nt_weights[:, 0] + nt_weights[:, 1:] @ x <= T_n,\n",
    "        x <= I_max,\n",
    "        -I_max <= x, \n",
    "    ]\n",
    "\n",
    "    objective_function = cp.exp(T_n) + cp.exp(T_t)\n",
    "\n",
    "    objective = cp.Minimize(objective_function)\n",
    "    prob = cp.Problem(objective, constraints)\n",
    "    opt_val  = prob.solve()\n",
    "    print(f\"Optimal value {opt_val}\")\n",
    "\n",
    "    print(f\"optimal p_t {compute_pt(T_t.value)[0]}\")\n",
    "    print(f\"optimal p_n {compute_pn(T_n.value)[0]}\")\n",
    "    print(f\"optimal T_t {T_t.value[0]}\")\n",
    "    print(f\"optimal T_n {T_n.value[0]}\")\n",
    "    print(x.value)\n",
    "\n",
    "    selec_vals[i] = compute_pt(T_t.value)[0] * (1 - compute_pn(T_n.value)[0])\n",
    "    x_vals[i] = x.value"
   ]
  },
  {
   "cell_type": "code",
   "execution_count": null,
   "metadata": {},
   "outputs": [],
   "source": [
    "selec_vals"
   ]
  },
  {
   "cell_type": "code",
   "execution_count": null,
   "metadata": {},
   "outputs": [],
   "source": [
    "selec_vals[np.argsort(selec_vals)]"
   ]
  },
  {
   "cell_type": "code",
   "execution_count": null,
   "metadata": {},
   "outputs": [],
   "source": [
    "x_vals[np.argsort(selec_vals)]"
   ]
  },
  {
   "cell_type": "code",
   "execution_count": null,
   "metadata": {},
   "outputs": [],
   "source": [
    "selec_vec = x_vals[np.argsort(selec_vals)[-1]]"
   ]
  },
  {
   "cell_type": "code",
   "execution_count": null,
   "metadata": {
    "scrolled": false
   },
   "outputs": [],
   "source": [
    "for nt in nontargets:\n",
    "    getWeights(p, nt, degree, l2_reg, clusters_nt, negll_thr, selec_vec=selec_vec, show_clusters=False)"
   ]
  },
  {
   "cell_type": "code",
   "execution_count": null,
   "metadata": {
    "scrolled": false
   },
   "outputs": [],
   "source": [
    "for t in targets:\n",
    "    getWeights(p, t, degree, l2_reg, clusters_t, negll_thr, selec_vec=selec_vec, show_clusters=False)"
   ]
  },
  {
   "cell_type": "code",
   "execution_count": null,
   "metadata": {},
   "outputs": [],
   "source": []
  },
  {
   "cell_type": "code",
   "execution_count": null,
   "metadata": {},
   "outputs": [],
   "source": []
  },
  {
   "cell_type": "code",
   "execution_count": null,
   "metadata": {},
   "outputs": [],
   "source": []
  },
  {
   "cell_type": "code",
   "execution_count": null,
   "metadata": {},
   "outputs": [],
   "source": []
  },
  {
   "cell_type": "code",
   "execution_count": null,
   "metadata": {},
   "outputs": [],
   "source": []
  },
  {
   "cell_type": "code",
   "execution_count": null,
   "metadata": {},
   "outputs": [],
   "source": []
  },
  {
   "cell_type": "code",
   "execution_count": null,
   "metadata": {},
   "outputs": [],
   "source": []
  },
  {
   "cell_type": "code",
   "execution_count": null,
   "metadata": {},
   "outputs": [],
   "source": []
  }
 ],
 "metadata": {
  "interpreter": {
   "hash": "7a49c36f17b22be80bca1a531e420dccca9dd908a69799277bc977a4a0d3e51d"
  },
  "kernelspec": {
   "display_name": "Python 3",
   "language": "python",
   "name": "python3"
  },
  "language_info": {
   "codemirror_mode": {
    "name": "ipython",
    "version": 3
   },
   "file_extension": ".py",
   "mimetype": "text/x-python",
   "name": "python",
   "nbconvert_exporter": "python",
   "pygments_lexer": "ipython3",
   "version": "3.9.7"
  }
 },
 "nbformat": 4,
 "nbformat_minor": 2
}
