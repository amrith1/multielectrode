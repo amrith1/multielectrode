{
 "cells": [
  {
   "cell_type": "code",
   "execution_count": null,
   "metadata": {},
   "outputs": [],
   "source": [
    "import numpy as np\n",
    "import scipy as sp\n",
    "import matplotlib.pyplot as plt\n",
    "import visionloader as vl\n",
    "import os\n",
    "import electrode_map as elcmp\n",
    "from scipy.io import loadmat\n",
    "import src.multielec_utils as mutils\n",
    "\n",
    "%load_ext autoreload\n",
    "%autoreload 2"
   ]
  },
  {
   "cell_type": "code",
   "execution_count": null,
   "metadata": {},
   "outputs": [],
   "source": [
    "datapath = \"/Volumes/Analysis/2020-10-18-5/kilosort_data002/data002\"\n",
    "datarun = \"data002\"\n",
    "vcd = vl.load_vision_data(\n",
    "    datapath,\n",
    "    datarun,\n",
    "    include_neurons=True,\n",
    "    include_ei=True,\n",
    "    include_params=True,\n",
    "    include_noise=True,\n",
    ")"
   ]
  },
  {
   "cell_type": "code",
   "execution_count": null,
   "metadata": {},
   "outputs": [],
   "source": [
    "p = 2\n",
    "electrical_path = \"/Volumes/Analysis/2021-05-27-0/data005/data005-all/\"\n",
    "\n",
    "stim_electrodes = mutils.get_stim_elecs_newlv(electrical_path, p)"
   ]
  },
  {
   "cell_type": "code",
   "execution_count": null,
   "metadata": {},
   "outputs": [],
   "source": [
    "channel_noise = vcd.channel_noise"
   ]
  },
  {
   "cell_type": "code",
   "execution_count": null,
   "metadata": {},
   "outputs": [],
   "source": [
    "plt.hist(channel_noise)"
   ]
  },
  {
   "cell_type": "code",
   "execution_count": null,
   "metadata": {},
   "outputs": [],
   "source": [
    "cellids = sorted(vcd.get_cell_ids())\n",
    "coords = vcd.get_electrode_map()"
   ]
  },
  {
   "cell_type": "code",
   "execution_count": null,
   "metadata": {},
   "outputs": [],
   "source": [
    "for cell in cellids:\n",
    "    print(cell)\n",
    "    print(vcd.get_cell_type_for_cell(cell))"
   ]
  },
  {
   "cell_type": "code",
   "execution_count": null,
   "metadata": {},
   "outputs": [],
   "source": [
    "len(cellids)"
   ]
  },
  {
   "cell_type": "code",
   "execution_count": null,
   "metadata": {},
   "outputs": [],
   "source": [
    "thr_factor = 4"
   ]
  },
  {
   "cell_type": "code",
   "execution_count": null,
   "metadata": {},
   "outputs": [],
   "source": [
    "cells_of_interest = []\n",
    "cell_types_of_interest = []\n",
    "\n",
    "for cell in cellids:\n",
    "    good_inds, EI = mutils.get_collapsed_ei_thr(vcd, cell, thr_factor)\n",
    "    good_elecs = good_inds + 1\n",
    "    if np.any(np.in1d(stim_electrodes, good_elecs)):\n",
    "        cell_type = vcd.get_cell_type_for_cell(cell)\n",
    "        if \"parasol\" in cell_type.lower() or 'midget' in cell_type.lower():\n",
    "            print(cell)\n",
    "            print(vcd.get_cell_type_for_cell(cell))\n",
    "            cells_of_interest.append(cell)\n",
    "            cell_types_of_interest.append(cell_type)\n",
    "\n",
    "cells_of_interest = np.array(cells_of_interest)"
   ]
  },
  {
   "cell_type": "code",
   "execution_count": null,
   "metadata": {},
   "outputs": [],
   "source": [
    "thr_factor = 1"
   ]
  },
  {
   "cell_type": "code",
   "execution_count": null,
   "metadata": {
    "scrolled": false
   },
   "outputs": [],
   "source": [
    "fig, ax = plt.subplots(figsize=(13, 13))\n",
    "ax.scatter(coords[:, 0], coords[:, 1], s=1, c=\"k\")\n",
    "\n",
    "for j in range(len(cells_of_interest)):\n",
    "    #     if True:\n",
    "    if cells_of_interest[j] == 665:\n",
    "        good_inds, EI = mutils.get_collapsed_ei_thr(vcd, cells_of_interest[j], thr_factor)\n",
    "\n",
    "        ax.scatter(\n",
    "            coords[good_inds, 0],\n",
    "            coords[good_inds, 1],\n",
    "            s=EI[good_inds] * 5,\n",
    "            label=cell_types_of_interest[j] + \" \" + str(cells_of_interest[j]),\n",
    "            alpha=0.5,\n",
    "        )\n",
    "        for i, txt in enumerate(good_inds):\n",
    "            ax.annotate(txt + 1, (coords[good_inds[i], 0], coords[good_inds[i], 1]))\n",
    "\n",
    "# ax.axis('off')\n",
    "ax.legend(fontsize=18, loc=\"upper right\")\n",
    "plt.show()"
   ]
  },
  {
   "cell_type": "code",
   "execution_count": null,
   "metadata": {},
   "outputs": [],
   "source": [
    "stim_electrodes"
   ]
  },
  {
   "cell_type": "code",
   "execution_count": null,
   "metadata": {},
   "outputs": [],
   "source": []
  },
  {
   "cell_type": "code",
   "execution_count": null,
   "metadata": {},
   "outputs": [],
   "source": []
  },
  {
   "cell_type": "code",
   "execution_count": null,
   "metadata": {},
   "outputs": [],
   "source": []
  },
  {
   "cell_type": "code",
   "execution_count": null,
   "metadata": {},
   "outputs": [],
   "source": []
  },
  {
   "cell_type": "code",
   "execution_count": null,
   "metadata": {},
   "outputs": [],
   "source": []
  },
  {
   "cell_type": "code",
   "execution_count": null,
   "metadata": {},
   "outputs": [],
   "source": []
  },
  {
   "cell_type": "code",
   "execution_count": null,
   "metadata": {},
   "outputs": [],
   "source": []
  },
  {
   "cell_type": "code",
   "execution_count": null,
   "metadata": {},
   "outputs": [],
   "source": []
  },
  {
   "cell_type": "code",
   "execution_count": null,
   "metadata": {},
   "outputs": [],
   "source": []
  },
  {
   "cell_type": "code",
   "execution_count": null,
   "metadata": {},
   "outputs": [],
   "source": []
  },
  {
   "cell_type": "code",
   "execution_count": null,
   "metadata": {},
   "outputs": [],
   "source": []
  },
  {
   "cell_type": "code",
   "execution_count": null,
   "metadata": {},
   "outputs": [],
   "source": []
  },
  {
   "cell_type": "code",
   "execution_count": null,
   "metadata": {},
   "outputs": [],
   "source": []
  }
 ],
 "metadata": {
  "kernelspec": {
   "display_name": "Python 3.9.2 ('pvasi39')",
   "language": "python",
   "name": "python392jvsc74a57bd06eaea2c7032a5f07ed16c090fcaf8a1046abeb583cd32fbf6db2cca8d3e0341c"
  },
  "language_info": {
   "codemirror_mode": {
    "name": "ipython",
    "version": 3
   },
   "file_extension": ".py",
   "mimetype": "text/x-python",
   "name": "python",
   "nbconvert_exporter": "python",
   "pygments_lexer": "ipython3",
   "version": "3.9.2"
  }
 },
 "nbformat": 4,
 "nbformat_minor": 4
}
